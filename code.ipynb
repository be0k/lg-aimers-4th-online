{
 "cells": [
  {
   "cell_type": "markdown",
   "id": "57600499",
   "metadata": {},
   "source": [
    "code.ipynb   \n",
    "model_0   \n",
    "model_1   \n",
    "model_2   \n",
    "model_3   \n",
    "model_4   \n",
    "model_5   \n",
    "model_6   \n",
    "model_7   \n",
    "model_8   \n",
    "model_9   "
   ]
  },
  {
   "cell_type": "markdown",
   "id": "4acd928a",
   "metadata": {},
   "source": [
    "### 라이브러리 install"
   ]
  },
  {
   "cell_type": "code",
   "execution_count": 1,
   "id": "1e8a2702",
   "metadata": {
    "scrolled": true
   },
   "outputs": [
    {
     "name": "stdout",
     "output_type": "stream",
     "text": [
      "Requirement already satisfied: scikit-learn in /home/server4/anaconda3/envs/jy/lib/python3.11/site-packages (1.4.0)\n",
      "Requirement already satisfied: tqdm in /home/server4/anaconda3/envs/jy/lib/python3.11/site-packages (4.65.0)\n",
      "Requirement already satisfied: catboost in /home/server4/anaconda3/envs/jy/lib/python3.11/site-packages (1.2.2)\n",
      "Requirement already satisfied: optuna in /home/server4/anaconda3/envs/jy/lib/python3.11/site-packages (3.5.0)\n",
      "Requirement already satisfied: ipywidgets in /home/server4/anaconda3/envs/jy/lib/python3.11/site-packages (8.0.4)\n",
      "Requirement already satisfied: imblearn in /home/server4/anaconda3/envs/jy/lib/python3.11/site-packages (0.0)\n",
      "Requirement already satisfied: numpy<2.0,>=1.19.5 in /home/server4/anaconda3/envs/jy/lib/python3.11/site-packages (from scikit-learn) (1.26.0)\n",
      "Requirement already satisfied: scipy>=1.6.0 in /home/server4/anaconda3/envs/jy/lib/python3.11/site-packages (from scikit-learn) (1.11.4)\n",
      "Requirement already satisfied: joblib>=1.2.0 in /home/server4/anaconda3/envs/jy/lib/python3.11/site-packages (from scikit-learn) (1.3.2)\n",
      "Requirement already satisfied: threadpoolctl>=2.0.0 in /home/server4/anaconda3/envs/jy/lib/python3.11/site-packages (from scikit-learn) (3.2.0)\n",
      "Requirement already satisfied: graphviz in /home/server4/anaconda3/envs/jy/lib/python3.11/site-packages (from catboost) (0.20.1)\n",
      "Requirement already satisfied: matplotlib in /home/server4/anaconda3/envs/jy/lib/python3.11/site-packages (from catboost) (3.7.2)\n",
      "Requirement already satisfied: pandas>=0.24 in /home/server4/anaconda3/envs/jy/lib/python3.11/site-packages (from catboost) (2.0.3)\n",
      "Requirement already satisfied: plotly in /home/server4/anaconda3/envs/jy/lib/python3.11/site-packages (from catboost) (5.18.0)\n",
      "Requirement already satisfied: six in /home/server4/anaconda3/envs/jy/lib/python3.11/site-packages (from catboost) (1.16.0)\n",
      "Requirement already satisfied: alembic>=1.5.0 in /home/server4/anaconda3/envs/jy/lib/python3.11/site-packages (from optuna) (1.13.1)\n",
      "Requirement already satisfied: colorlog in /home/server4/anaconda3/envs/jy/lib/python3.11/site-packages (from optuna) (6.8.2)\n",
      "Requirement already satisfied: packaging>=20.0 in /home/server4/anaconda3/envs/jy/lib/python3.11/site-packages (from optuna) (23.1)\n",
      "Requirement already satisfied: sqlalchemy>=1.3.0 in /home/server4/anaconda3/envs/jy/lib/python3.11/site-packages (from optuna) (2.0.25)\n",
      "Requirement already satisfied: PyYAML in /home/server4/anaconda3/envs/jy/lib/python3.11/site-packages (from optuna) (6.0)\n",
      "Requirement already satisfied: ipykernel>=4.5.1 in /home/server4/anaconda3/envs/jy/lib/python3.11/site-packages (from ipywidgets) (6.25.0)\n",
      "Requirement already satisfied: ipython>=6.1.0 in /home/server4/anaconda3/envs/jy/lib/python3.11/site-packages (from ipywidgets) (8.15.0)\n",
      "Requirement already satisfied: traitlets>=4.3.1 in /home/server4/anaconda3/envs/jy/lib/python3.11/site-packages (from ipywidgets) (5.7.1)\n",
      "Requirement already satisfied: widgetsnbextension~=4.0 in /home/server4/anaconda3/envs/jy/lib/python3.11/site-packages (from ipywidgets) (4.0.5)\n",
      "Requirement already satisfied: jupyterlab-widgets~=3.0 in /home/server4/anaconda3/envs/jy/lib/python3.11/site-packages (from ipywidgets) (3.0.5)\n",
      "Requirement already satisfied: imbalanced-learn in /home/server4/anaconda3/envs/jy/lib/python3.11/site-packages (from imblearn) (0.12.0)\n",
      "Requirement already satisfied: Mako in /home/server4/anaconda3/envs/jy/lib/python3.11/site-packages (from alembic>=1.5.0->optuna) (1.3.2)\n",
      "Requirement already satisfied: typing-extensions>=4 in /home/server4/anaconda3/envs/jy/lib/python3.11/site-packages (from alembic>=1.5.0->optuna) (4.9.0)\n",
      "Requirement already satisfied: comm>=0.1.1 in /home/server4/anaconda3/envs/jy/lib/python3.11/site-packages (from ipykernel>=4.5.1->ipywidgets) (0.1.2)\n",
      "Requirement already satisfied: debugpy>=1.6.5 in /home/server4/anaconda3/envs/jy/lib/python3.11/site-packages (from ipykernel>=4.5.1->ipywidgets) (1.6.7)\n",
      "Requirement already satisfied: jupyter-client>=6.1.12 in /home/server4/anaconda3/envs/jy/lib/python3.11/site-packages (from ipykernel>=4.5.1->ipywidgets) (7.4.9)\n",
      "Requirement already satisfied: jupyter-core!=5.0.*,>=4.12 in /home/server4/anaconda3/envs/jy/lib/python3.11/site-packages (from ipykernel>=4.5.1->ipywidgets) (5.3.0)\n",
      "Requirement already satisfied: matplotlib-inline>=0.1 in /home/server4/anaconda3/envs/jy/lib/python3.11/site-packages (from ipykernel>=4.5.1->ipywidgets) (0.1.6)\n",
      "Requirement already satisfied: nest-asyncio in /home/server4/anaconda3/envs/jy/lib/python3.11/site-packages (from ipykernel>=4.5.1->ipywidgets) (1.5.6)\n",
      "Requirement already satisfied: psutil in /home/server4/anaconda3/envs/jy/lib/python3.11/site-packages (from ipykernel>=4.5.1->ipywidgets) (5.9.0)\n",
      "Requirement already satisfied: pyzmq>=20 in /home/server4/anaconda3/envs/jy/lib/python3.11/site-packages (from ipykernel>=4.5.1->ipywidgets) (23.2.0)\n",
      "Requirement already satisfied: tornado>=6.1 in /home/server4/anaconda3/envs/jy/lib/python3.11/site-packages (from ipykernel>=4.5.1->ipywidgets) (6.3.3)\n",
      "Requirement already satisfied: backcall in /home/server4/anaconda3/envs/jy/lib/python3.11/site-packages (from ipython>=6.1.0->ipywidgets) (0.2.0)\n",
      "Requirement already satisfied: decorator in /home/server4/anaconda3/envs/jy/lib/python3.11/site-packages (from ipython>=6.1.0->ipywidgets) (5.1.1)\n",
      "Requirement already satisfied: jedi>=0.16 in /home/server4/anaconda3/envs/jy/lib/python3.11/site-packages (from ipython>=6.1.0->ipywidgets) (0.18.1)\n",
      "Requirement already satisfied: pickleshare in /home/server4/anaconda3/envs/jy/lib/python3.11/site-packages (from ipython>=6.1.0->ipywidgets) (0.7.5)\n",
      "Requirement already satisfied: prompt-toolkit!=3.0.37,<3.1.0,>=3.0.30 in /home/server4/anaconda3/envs/jy/lib/python3.11/site-packages (from ipython>=6.1.0->ipywidgets) (3.0.36)\n",
      "Requirement already satisfied: pygments>=2.4.0 in /home/server4/anaconda3/envs/jy/lib/python3.11/site-packages (from ipython>=6.1.0->ipywidgets) (2.15.1)\n",
      "Requirement already satisfied: stack-data in /home/server4/anaconda3/envs/jy/lib/python3.11/site-packages (from ipython>=6.1.0->ipywidgets) (0.2.0)\n",
      "Requirement already satisfied: pexpect>4.3 in /home/server4/anaconda3/envs/jy/lib/python3.11/site-packages (from ipython>=6.1.0->ipywidgets) (4.8.0)\n",
      "Requirement already satisfied: python-dateutil>=2.8.2 in /home/server4/anaconda3/envs/jy/lib/python3.11/site-packages (from pandas>=0.24->catboost) (2.8.2)\n",
      "Requirement already satisfied: pytz>=2020.1 in /home/server4/anaconda3/envs/jy/lib/python3.11/site-packages (from pandas>=0.24->catboost) (2023.3.post1)\n",
      "Requirement already satisfied: tzdata>=2022.1 in /home/server4/anaconda3/envs/jy/lib/python3.11/site-packages (from pandas>=0.24->catboost) (2023.3)\n",
      "Requirement already satisfied: greenlet!=0.4.17 in /home/server4/anaconda3/envs/jy/lib/python3.11/site-packages (from sqlalchemy>=1.3.0->optuna) (3.0.3)\n",
      "Requirement already satisfied: contourpy>=1.0.1 in /home/server4/anaconda3/envs/jy/lib/python3.11/site-packages (from matplotlib->catboost) (1.0.5)\n",
      "Requirement already satisfied: cycler>=0.10 in /home/server4/anaconda3/envs/jy/lib/python3.11/site-packages (from matplotlib->catboost) (0.11.0)\n",
      "Requirement already satisfied: fonttools>=4.22.0 in /home/server4/anaconda3/envs/jy/lib/python3.11/site-packages (from matplotlib->catboost) (4.25.0)\n",
      "Requirement already satisfied: kiwisolver>=1.0.1 in /home/server4/anaconda3/envs/jy/lib/python3.11/site-packages (from matplotlib->catboost) (1.4.4)\n",
      "Requirement already satisfied: pillow>=6.2.0 in /home/server4/anaconda3/envs/jy/lib/python3.11/site-packages (from matplotlib->catboost) (10.0.1)\n",
      "Requirement already satisfied: pyparsing<3.1,>=2.3.1 in /home/server4/anaconda3/envs/jy/lib/python3.11/site-packages (from matplotlib->catboost) (3.0.9)\n",
      "Requirement already satisfied: tenacity>=6.2.0 in /home/server4/anaconda3/envs/jy/lib/python3.11/site-packages (from plotly->catboost) (8.2.3)\n",
      "Requirement already satisfied: parso<0.9.0,>=0.8.0 in /home/server4/anaconda3/envs/jy/lib/python3.11/site-packages (from jedi>=0.16->ipython>=6.1.0->ipywidgets) (0.8.3)\n",
      "Requirement already satisfied: entrypoints in /home/server4/anaconda3/envs/jy/lib/python3.11/site-packages (from jupyter-client>=6.1.12->ipykernel>=4.5.1->ipywidgets) (0.4)\n",
      "Requirement already satisfied: platformdirs>=2.5 in /home/server4/anaconda3/envs/jy/lib/python3.11/site-packages (from jupyter-core!=5.0.*,>=4.12->ipykernel>=4.5.1->ipywidgets) (3.10.0)\n",
      "Requirement already satisfied: ptyprocess>=0.5 in /home/server4/anaconda3/envs/jy/lib/python3.11/site-packages (from pexpect>4.3->ipython>=6.1.0->ipywidgets) (0.7.0)\n",
      "Requirement already satisfied: wcwidth in /home/server4/anaconda3/envs/jy/lib/python3.11/site-packages (from prompt-toolkit!=3.0.37,<3.1.0,>=3.0.30->ipython>=6.1.0->ipywidgets) (0.2.5)\n"
     ]
    },
    {
     "name": "stdout",
     "output_type": "stream",
     "text": [
      "Requirement already satisfied: MarkupSafe>=0.9.2 in /home/server4/anaconda3/envs/jy/lib/python3.11/site-packages (from Mako->alembic>=1.5.0->optuna) (2.1.1)\n",
      "Requirement already satisfied: executing in /home/server4/anaconda3/envs/jy/lib/python3.11/site-packages (from stack-data->ipython>=6.1.0->ipywidgets) (0.8.3)\n",
      "Requirement already satisfied: asttokens in /home/server4/anaconda3/envs/jy/lib/python3.11/site-packages (from stack-data->ipython>=6.1.0->ipywidgets) (2.0.5)\n",
      "Requirement already satisfied: pure-eval in /home/server4/anaconda3/envs/jy/lib/python3.11/site-packages (from stack-data->ipython>=6.1.0->ipywidgets) (0.2.2)\n",
      "\u001b[33mWARNING: There was an error checking the latest version of pip.\u001b[0m\u001b[33m\n",
      "\u001b[0m"
     ]
    }
   ],
   "source": [
    "!pip3 install scikit-learn tqdm catboost optuna ipywidgets imblearn"
   ]
  },
  {
   "cell_type": "markdown",
   "id": "bc2c3cd0",
   "metadata": {},
   "source": [
    "### 라이브러리 import"
   ]
  },
  {
   "cell_type": "code",
   "execution_count": 2,
   "id": "a315cc58",
   "metadata": {},
   "outputs": [],
   "source": [
    "import pandas as pd\n",
    "import sklearn\n",
    "import numpy as np\n",
    "import random\n",
    "import os\n",
    "from imblearn.over_sampling import BorderlineSMOTE\n",
    "from sklearn.metrics import (\n",
    "    accuracy_score,\n",
    "    confusion_matrix,\n",
    "    f1_score,\n",
    "    precision_score,\n",
    "    recall_score,\n",
    ")\n",
    "import optuna\n",
    "from optuna.samplers import TPESampler\n",
    "from optuna.pruners import SuccessiveHalvingPruner\n",
    "from catboost import CatBoostClassifier, Pool\n",
    "\n",
    "import warnings\n",
    "warnings.filterwarnings('ignore')\n",
    "\n",
    "from sklearn.preprocessing import RobustScaler\n",
    "from sklearn.model_selection import StratifiedKFold\n"
   ]
  },
  {
   "cell_type": "markdown",
   "id": "b098338c",
   "metadata": {},
   "source": [
    "### seed 고정"
   ]
  },
  {
   "cell_type": "code",
   "execution_count": 3,
   "id": "462e268e",
   "metadata": {},
   "outputs": [],
   "source": [
    "def seed_everything(seed):\n",
    "    random.seed(seed)\n",
    "    os.environ['PYTHONHASHSEED'] = str(seed)\n",
    "    np.random.seed(seed)\n",
    "seed=42\n",
    "seed_everything(seed) # Seed 고정"
   ]
  },
  {
   "cell_type": "markdown",
   "id": "5a34a679",
   "metadata": {},
   "source": [
    "### 데이터 불러오기"
   ]
  },
  {
   "cell_type": "code",
   "execution_count": 4,
   "id": "7ada941e",
   "metadata": {},
   "outputs": [],
   "source": [
    "df_train = pd.read_csv(\"train.csv\") # 학습용 데이터\n",
    "df_test = pd.read_csv(\"submission.csv\") # 테스트 데이터(제출파일의 데이터)"
   ]
  },
  {
   "cell_type": "markdown",
   "id": "4261a96b",
   "metadata": {},
   "source": [
    "### 전처리(Data leakage 없음)"
   ]
  },
  {
   "cell_type": "code",
   "execution_count": 5,
   "id": "ff10c5fb",
   "metadata": {},
   "outputs": [],
   "source": [
    "def category_all(df_train, df_test):\n",
    "    label_columns = [\n",
    "    \"customer_country\",\n",
    "    \"business_subarea\",\n",
    "    \"business_area\",\n",
    "    \"business_unit\",\n",
    "    \"customer_type\",\n",
    "    \"enterprise\",\n",
    "    \"customer_job\",\n",
    "    \"inquiry_type\",\n",
    "    \"product_category\",\n",
    "    \"product_subcategory\",\n",
    "    \"product_modelname\",\n",
    "    \"customer_position\",\n",
    "    \"response_corporate\",\n",
    "    \"expected_timeline\",\n",
    "    'customer_idx',\n",
    "    'lead_owner',\n",
    "    'id_strategic_ver',\n",
    "    'it_strategic_ver',\n",
    "    'idit_strategic_ver',\n",
    "    'ver_cus',\n",
    "    'ver_pro',\n",
    "    ]\n",
    "    for i in label_columns:\n",
    "        df_train[i] = df_train[i].astype('category')\n",
    "        df_test[i] = df_test[i].astype('category')\n",
    "    return df_train, df_test    \n",
    "\n",
    "\n",
    "def preprocessing(df_train, df_test):\n",
    "    df_train.drop_duplicates(keep='first', inplace=True)\n",
    "    df_train.reset_index(inplace=True)\n",
    "    df_train.drop('index',inplace=True, axis=1)\n",
    "    df_test_id_temp = df_test['id'].copy()\n",
    "    df_all = pd.concat([df_train,df_test.drop('id',axis=1)])\n",
    "    df_all.drop('customer_country.1',axis=1,inplace=True)\n",
    "    df_all.id_strategic_ver.fillna(0., inplace=True)\n",
    "    df_all.it_strategic_ver.fillna(0., inplace=True)\n",
    "    df_all.idit_strategic_ver.fillna(0., inplace=True)\n",
    "    df_all.business_subarea.fillna('NAN', inplace=True)\n",
    "    df_all.com_reg_ver_win_rate.fillna(0,inplace=True)\n",
    "    df_all['customer_type'] = df_all['customer_type'].replace({\n",
    "        'End-Customer':'End Customer'\n",
    "    })\n",
    "    df_all.customer_type.fillna('NAN',inplace=True)\n",
    "    df_all.historical_existing_cnt.fillna(0, inplace=True)\n",
    "    \n",
    "    df_all.product_subcategory.fillna('NAN', inplace=True)\n",
    "    \n",
    "    df_all.product_modelname.fillna('NAN', inplace=True)\n",
    "\n",
    "    df_all['expected_timeline'] = df_all['expected_timeline'].replace({\n",
    "        'less_than_3_months': 'less than 3 months',\n",
    "        'being followed up': 'being followed up.',\n",
    "        'less than 6 months': '3 months ~ 6 months',\n",
    "        '3_months_~_6_months' : '3 months ~ 6 months'\n",
    "    })\n",
    "\n",
    "    df_all.expected_timeline.fillna('NAN',inplace=True)\n",
    "    df_all.ver_win_rate_x.fillna(0,inplace=True)\n",
    "    df_all.ver_win_ratio_per_bu.fillna(0,inplace=True)\n",
    "    df_all.business_area.fillna('NAN',inplace=True)\n",
    "    df_all.customer_job.fillna('NAN', inplace=True)\n",
    "    df_all.product_category.fillna('NAN', inplace=True)\n",
    "    \n",
    "    #처리못한부분\n",
    "    #customer_country\n",
    "    df_all.customer_country.fillna('NAN', inplace=True)\n",
    "    #inquiry_type\n",
    "    df_all.inquiry_type.fillna('NAN', inplace=True)\n",
    "\n",
    "    label_columns = [\n",
    "    \"customer_country\",\n",
    "    \"business_subarea\",\n",
    "    \"business_area\",\n",
    "    \"business_unit\",\n",
    "    \"customer_type\",\n",
    "    \"enterprise\",\n",
    "    \"customer_job\",\n",
    "    \"inquiry_type\",\n",
    "    \"product_category\",\n",
    "    \"product_subcategory\",\n",
    "    \"product_modelname\",\n",
    "    \"customer_position\",\n",
    "    \"response_corporate\",\n",
    "    \"expected_timeline\",\n",
    "    ]\n",
    "    \n",
    "    ###############################\n",
    "    #detect special char and to lower\n",
    "    for i in label_columns:\n",
    "        df_all[i] = df_all[i].str.lower()\n",
    "        df_all[i] = df_all[i].str.replace(pat=r'[^\\w]', repl=r'', regex=True)\n",
    "        \n",
    "    #to int\n",
    "    df_all['id_strategic_ver'] = df_all['id_strategic_ver'].astype('int64')\n",
    "    df_all['it_strategic_ver'] = df_all['it_strategic_ver'].astype('int64')\n",
    "    df_all['idit_strategic_ver'] = df_all['idit_strategic_ver'].astype('int64')\n",
    "    df_all['lead_desc_length'] = df_all['lead_desc_length'].astype('int64')\n",
    "    df_all['historical_existing_cnt'] = df_all['historical_existing_cnt'].astype('int64')\n",
    "\n",
    "    #seperate\n",
    "    tmp_len = len(df_train)\n",
    "    df_train = df_all.iloc[: tmp_len ]\n",
    "    df_test = df_all.iloc[tmp_len :]\n",
    "    df_test = pd.concat([df_test,df_test_id_temp],axis=1)\n",
    "    \n",
    "    #RobustScaler\n",
    "    robustScaler = RobustScaler()\n",
    "    df_train['ver_win_rate_x'] = robustScaler.fit_transform(df_train[['ver_win_rate_x']])\n",
    "    df_test['ver_win_rate_x'] = robustScaler.transform(df_test[['ver_win_rate_x']])\n",
    "    robustScaler = RobustScaler()\n",
    "    df_train['ver_win_ratio_per_bu'] = robustScaler.fit_transform(df_train[['ver_win_ratio_per_bu']])\n",
    "    df_test['ver_win_ratio_per_bu'] = robustScaler.transform(df_test[['ver_win_ratio_per_bu']])\n",
    "    ##############################\n",
    "    \n",
    "    return df_train, df_test\n",
    "\n",
    "\n",
    "df_train, df_test = preprocessing(df_train, df_test)\n",
    "df_train, df_test = category_all(df_train, df_test)\n",
    "rate = ((len(df_train)-sum(df_train['is_converted']))/sum(df_train['is_converted']))\n",
    "x_train, y_train = df_train.drop(\"is_converted\",axis=1), df_train[\"is_converted\"]"
   ]
  },
  {
   "cell_type": "markdown",
   "id": "bfcf9098",
   "metadata": {},
   "source": [
    "### stratified K-fold(k = 10)"
   ]
  },
  {
   "cell_type": "code",
   "execution_count": 6,
   "id": "a5861610",
   "metadata": {},
   "outputs": [],
   "source": [
    "categorical_features = [\n",
    "    \"customer_country\",\n",
    "    \"business_subarea\",\n",
    "    \"business_area\",\n",
    "    \"business_unit\",\n",
    "    \"customer_type\",\n",
    "    \"enterprise\",\n",
    "    \"customer_job\",\n",
    "    \"inquiry_type\",\n",
    "    \"product_category\",\n",
    "    \"product_subcategory\",\n",
    "    \"product_modelname\",\n",
    "    \"customer_position\",\n",
    "    \"response_corporate\",\n",
    "    \"expected_timeline\",\n",
    "   'customer_idx',\n",
    "   'lead_owner',\n",
    "    'id_strategic_ver',\n",
    "    'it_strategic_ver',\n",
    "    'idit_strategic_ver',\n",
    "    'ver_cus',\n",
    "    'ver_pro',\n",
    "    ]\n",
    "\n",
    "S_kfold = StratifiedKFold(n_splits=10, shuffle=True, random_state=seed)\n",
    "\n",
    "all_train_pool = []\n",
    "all_val_pool = []\n",
    "all_y_val = []\n",
    "\n",
    "for train_idx, val_idx in S_kfold.split(x_train, list(y_train)):\n",
    "    tmp_x_train, tmp_x_val = x_train.iloc[train_idx], x_train.iloc[val_idx]\n",
    "    tmp_y_train, tmp_y_val = y_train[train_idx], y_train[val_idx]\n",
    "    train_pool = Pool(data=tmp_x_train, label=tmp_y_train, cat_features=categorical_features)\n",
    "    val_pool = Pool(data=tmp_x_val, label=tmp_y_val, cat_features=categorical_features)\n",
    "    all_train_pool.append(train_pool)\n",
    "    all_val_pool.append(val_pool)\n",
    "    all_y_val.append(list(tmp_y_val))"
   ]
  },
  {
   "cell_type": "markdown",
   "id": "a688ea3e",
   "metadata": {},
   "source": [
    "### parameter(cpu)"
   ]
  },
  {
   "cell_type": "code",
   "execution_count": 7,
   "id": "f4c2dbab",
   "metadata": {},
   "outputs": [],
   "source": [
    "best_param = {'iterations': 27614,\n",
    " 'learning_rate': 0.3509403351095515,\n",
    " 'reg_lambda': 100,\n",
    " 'random_strength': 65.20460185599707,\n",
    " 'min_data_in_leaf': 47,\n",
    " 'leaf_estimation_iterations': 10,\n",
    " 'bagging_temperature': 0.22622563145185848}"
   ]
  },
  {
   "cell_type": "markdown",
   "id": "8f064bde",
   "metadata": {},
   "source": [
    "### Train Catboost Classifier(cpu)"
   ]
  },
  {
   "cell_type": "code",
   "execution_count": 8,
   "id": "1f6bea60",
   "metadata": {
    "scrolled": true
   },
   "outputs": [],
   "source": [
    "best_models = []\n",
    "for train_pool, val_pool in zip(all_train_pool, all_val_pool):\n",
    "    best_model = CatBoostClassifier(**best_param,\n",
    "                                 random_state=seed,\n",
    "                                 scale_pos_weight=rate, \n",
    "                                 loss_function='Logloss',\n",
    "                                 eval_metric='F1',\n",
    "                                verbose=100,\n",
    "                                   early_stopping_rounds=100)\n",
    "    \n",
    "    best_model.fit(train_pool, eval_set=val_pool)\n",
    "    best_models.append(best_model)"
   ]
  },
  {
   "cell_type": "markdown",
   "id": "ac6e25f6",
   "metadata": {},
   "source": [
    "### test"
   ]
  },
  {
   "cell_type": "code",
   "execution_count": 9,
   "id": "43daa73c",
   "metadata": {},
   "outputs": [],
   "source": [
    "categorical_features = label_columns = [\n",
    "                                            \"customer_country\",\n",
    "                                            \"business_subarea\",\n",
    "                                            \"business_area\",\n",
    "                                            \"business_unit\",\n",
    "                                            \"customer_type\",\n",
    "                                            \"enterprise\",\n",
    "                                            \"customer_job\",\n",
    "                                            \"inquiry_type\",\n",
    "                                            \"product_category\",\n",
    "                                            \"product_subcategory\",\n",
    "                                            \"product_modelname\",\n",
    "                                            \"customer_position\",\n",
    "                                            \"response_corporate\",\n",
    "                                            \"expected_timeline\",\n",
    "                                            'customer_idx',\n",
    "                                            'lead_owner',\n",
    "                                            'id_strategic_ver',\n",
    "                                            'it_strategic_ver',\n",
    "                                            'idit_strategic_ver',\n",
    "                                            'ver_cus',\n",
    "                                            'ver_pro',\n",
    "]\n",
    "# \n",
    "# 예측에 필요한 데이터 분리\n",
    "x_test = df_test.drop([\"is_converted\", \"id\"], axis=1)\n",
    "test_pool = Pool(data=x_test, cat_features=categorical_features)\n"
   ]
  },
  {
   "cell_type": "markdown",
   "id": "52c4b999",
   "metadata": {},
   "source": [
    "### predict(soft voting)"
   ]
  },
  {
   "cell_type": "code",
   "execution_count": 10,
   "id": "d13f7a6e",
   "metadata": {},
   "outputs": [],
   "source": [
    "# 예측 수행 (soft voting)\n",
    "pred = [best_model.predict_proba(test_pool) for best_model in best_models]\n",
    "pred = np.mean(pred, axis=0)\n",
    "cpu_pred = np.argmax(pred, axis=1)\n"
   ]
  },
  {
   "cell_type": "markdown",
   "id": "6605bdc5",
   "metadata": {},
   "source": [
    "### parameter(GPU)"
   ]
  },
  {
   "cell_type": "code",
   "execution_count": 11,
   "id": "9073b819",
   "metadata": {},
   "outputs": [],
   "source": [
    "best_param = {'iterations': 22865,\n",
    " 'learning_rate': 0.4558039595854515,\n",
    " 'reg_lambda': 40.615274454632356,\n",
    " 'random_strength': 69.76295482198546,\n",
    " 'min_data_in_leaf': 18,\n",
    " 'leaf_estimation_iterations': 13,\n",
    " 'bagging_temperature': 0.06021831198300387}"
   ]
  },
  {
   "cell_type": "markdown",
   "id": "ee395fef",
   "metadata": {},
   "source": [
    "### train Catboost Classifier(GPU)\n",
    "파일 위치를 제대로 지정해 주시거나 GPU가 있어야 합니다.   \n",
    "leader board점수를 완벽히 복원하려면 파일을 불러와야 합니다."
   ]
  },
  {
   "cell_type": "code",
   "execution_count": 12,
   "id": "b073278d",
   "metadata": {},
   "outputs": [],
   "source": [
    "best_models = []\n",
    "try:\n",
    "    print('모델을 불러오는 중')\n",
    "    for i in range(10):\n",
    "        best_models.append(CatBoostClassifier().load_model(f'model_{i}.cbm', format='cbm'))\n",
    "except:\n",
    "    best_models = []\n",
    "    try:\n",
    "        print('모델을 불러오는 중 오류가 발생해 모델 학습 중입니다.')\n",
    "        for train_pool, val_pool in zip(all_train_pool, all_val_pool):\n",
    "            best_model = CatBoostClassifier(**best_param,\n",
    "                                        random_state=seed,\n",
    "                                        scale_pos_weight=rate, \n",
    "                                        loss_function='Logloss',\n",
    "                                        eval_metric='F1',\n",
    "                                        task_type=\"GPU\",\n",
    "                                        verbose=100,\n",
    "                                        early_stopping_rounds=100)\n",
    "        best_model.fit(train_pool, eval_set=val_pool)\n",
    "        best_models.append(best_model)\n",
    "    except:\n",
    "        print('파일 위치를 제대로 지정해 주시거나 GPU가 있어야 합니다.\\nleader board점수를 완벽히 복원하려면 파일을 불러와야 합니다.')"
   ]
  },
  {
   "cell_type": "markdown",
   "id": "b4c5a676",
   "metadata": {},
   "source": [
    "### predict(soft voting)"
   ]
  },
  {
   "cell_type": "code",
   "execution_count": 13,
   "id": "f6fb75e7",
   "metadata": {},
   "outputs": [],
   "source": [
    "# 예측 수행 (soft voting)\n",
    "pred = [best_model.predict_proba(test_pool) for best_model in best_models]\n",
    "pred = np.mean(pred, axis=0)\n",
    "gpu_pred = np.argmax(pred, axis=1)"
   ]
  },
  {
   "cell_type": "markdown",
   "id": "47e7d023",
   "metadata": {},
   "source": [
    "### hard voting(cpu pred + gpu pred)"
   ]
  },
  {
   "cell_type": "code",
   "execution_count": 14,
   "id": "a46826e0",
   "metadata": {},
   "outputs": [],
   "source": [
    "hard_pred = [True if (cpu_pred[i] or gpu_pred[i]) else False for i in range(len(cpu_pred))]   "
   ]
  },
  {
   "cell_type": "code",
   "execution_count": 15,
   "id": "3128a458",
   "metadata": {},
   "outputs": [],
   "source": [
    "# 제출 데이터 읽어오기 (df_test는 전처리된 데이터가 저장됨)\n",
    "df_sub = pd.read_csv(\"submission.csv\")\n",
    "df_sub[\"is_converted\"] = hard_pred\n",
    "\n",
    "# 제출 파일 저장\n",
    "df_sub.to_csv(\"submission.csv\", index=False)"
   ]
  },
  {
   "cell_type": "code",
   "execution_count": 16,
   "id": "3679038b",
   "metadata": {},
   "outputs": [
    {
     "data": {
      "text/plain": [
       "1971"
      ]
     },
     "execution_count": 16,
     "metadata": {},
     "output_type": "execute_result"
    }
   ],
   "source": [
    "sum(hard_pred)"
   ]
  }
 ],
 "metadata": {
  "kernelspec": {
   "display_name": "Python 3 (ipykernel)",
   "language": "python",
   "name": "python3"
  },
  "language_info": {
   "codemirror_mode": {
    "name": "ipython",
    "version": 3
   },
   "file_extension": ".py",
   "mimetype": "text/x-python",
   "name": "python",
   "nbconvert_exporter": "python",
   "pygments_lexer": "ipython3",
   "version": "3.11.5"
  }
 },
 "nbformat": 4,
 "nbformat_minor": 5
}
