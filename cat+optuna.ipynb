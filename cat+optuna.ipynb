{
 "cells": [
  {
   "cell_type": "code",
   "execution_count": 278,
   "id": "1e8a2702",
   "metadata": {
    "scrolled": true
   },
   "outputs": [
    {
     "name": "stdout",
     "output_type": "stream",
     "text": [
      "Requirement already satisfied: scikit-learn in /home/server4/anaconda3/envs/jy/lib/python3.11/site-packages (1.4.0)\n",
      "Requirement already satisfied: tqdm in /home/server4/anaconda3/envs/jy/lib/python3.11/site-packages (4.65.0)\n",
      "Requirement already satisfied: catboost in /home/server4/anaconda3/envs/jy/lib/python3.11/site-packages (1.2.2)\n",
      "Requirement already satisfied: optuna in /home/server4/anaconda3/envs/jy/lib/python3.11/site-packages (3.5.0)\n",
      "Requirement already satisfied: xgboost in /home/server4/anaconda3/envs/jy/lib/python3.11/site-packages (2.0.3)\n",
      "Requirement already satisfied: ipywidgets in /home/server4/anaconda3/envs/jy/lib/python3.11/site-packages (8.0.4)\n",
      "Requirement already satisfied: imblearn in /home/server4/anaconda3/envs/jy/lib/python3.11/site-packages (0.0)\n",
      "Requirement already satisfied: numpy<2.0,>=1.19.5 in /home/server4/anaconda3/envs/jy/lib/python3.11/site-packages (from scikit-learn) (1.26.0)\n",
      "Requirement already satisfied: scipy>=1.6.0 in /home/server4/anaconda3/envs/jy/lib/python3.11/site-packages (from scikit-learn) (1.11.4)\n",
      "Requirement already satisfied: joblib>=1.2.0 in /home/server4/anaconda3/envs/jy/lib/python3.11/site-packages (from scikit-learn) (1.3.2)\n",
      "Requirement already satisfied: threadpoolctl>=2.0.0 in /home/server4/anaconda3/envs/jy/lib/python3.11/site-packages (from scikit-learn) (3.2.0)\n",
      "Requirement already satisfied: graphviz in /home/server4/anaconda3/envs/jy/lib/python3.11/site-packages (from catboost) (0.20.1)\n",
      "Requirement already satisfied: matplotlib in /home/server4/anaconda3/envs/jy/lib/python3.11/site-packages (from catboost) (3.7.2)\n",
      "Requirement already satisfied: pandas>=0.24 in /home/server4/anaconda3/envs/jy/lib/python3.11/site-packages (from catboost) (2.0.3)\n",
      "Requirement already satisfied: plotly in /home/server4/anaconda3/envs/jy/lib/python3.11/site-packages (from catboost) (5.18.0)\n",
      "Requirement already satisfied: six in /home/server4/anaconda3/envs/jy/lib/python3.11/site-packages (from catboost) (1.16.0)\n",
      "Requirement already satisfied: alembic>=1.5.0 in /home/server4/anaconda3/envs/jy/lib/python3.11/site-packages (from optuna) (1.13.1)\n",
      "Requirement already satisfied: colorlog in /home/server4/anaconda3/envs/jy/lib/python3.11/site-packages (from optuna) (6.8.2)\n",
      "Requirement already satisfied: packaging>=20.0 in /home/server4/anaconda3/envs/jy/lib/python3.11/site-packages (from optuna) (23.1)\n",
      "Requirement already satisfied: sqlalchemy>=1.3.0 in /home/server4/anaconda3/envs/jy/lib/python3.11/site-packages (from optuna) (2.0.25)\n",
      "Requirement already satisfied: PyYAML in /home/server4/anaconda3/envs/jy/lib/python3.11/site-packages (from optuna) (6.0)\n",
      "Requirement already satisfied: ipykernel>=4.5.1 in /home/server4/anaconda3/envs/jy/lib/python3.11/site-packages (from ipywidgets) (6.25.0)\n",
      "Requirement already satisfied: ipython>=6.1.0 in /home/server4/anaconda3/envs/jy/lib/python3.11/site-packages (from ipywidgets) (8.15.0)\n",
      "Requirement already satisfied: traitlets>=4.3.1 in /home/server4/anaconda3/envs/jy/lib/python3.11/site-packages (from ipywidgets) (5.7.1)\n",
      "Requirement already satisfied: widgetsnbextension~=4.0 in /home/server4/anaconda3/envs/jy/lib/python3.11/site-packages (from ipywidgets) (4.0.5)\n",
      "Requirement already satisfied: jupyterlab-widgets~=3.0 in /home/server4/anaconda3/envs/jy/lib/python3.11/site-packages (from ipywidgets) (3.0.5)\n",
      "Requirement already satisfied: imbalanced-learn in /home/server4/anaconda3/envs/jy/lib/python3.11/site-packages (from imblearn) (0.12.0)\n",
      "Requirement already satisfied: Mako in /home/server4/anaconda3/envs/jy/lib/python3.11/site-packages (from alembic>=1.5.0->optuna) (1.3.2)\n",
      "Requirement already satisfied: typing-extensions>=4 in /home/server4/anaconda3/envs/jy/lib/python3.11/site-packages (from alembic>=1.5.0->optuna) (4.9.0)\n",
      "Requirement already satisfied: comm>=0.1.1 in /home/server4/anaconda3/envs/jy/lib/python3.11/site-packages (from ipykernel>=4.5.1->ipywidgets) (0.1.2)\n",
      "Requirement already satisfied: debugpy>=1.6.5 in /home/server4/anaconda3/envs/jy/lib/python3.11/site-packages (from ipykernel>=4.5.1->ipywidgets) (1.6.7)\n",
      "Requirement already satisfied: jupyter-client>=6.1.12 in /home/server4/anaconda3/envs/jy/lib/python3.11/site-packages (from ipykernel>=4.5.1->ipywidgets) (7.4.9)\n",
      "Requirement already satisfied: jupyter-core!=5.0.*,>=4.12 in /home/server4/anaconda3/envs/jy/lib/python3.11/site-packages (from ipykernel>=4.5.1->ipywidgets) (5.3.0)\n",
      "Requirement already satisfied: matplotlib-inline>=0.1 in /home/server4/anaconda3/envs/jy/lib/python3.11/site-packages (from ipykernel>=4.5.1->ipywidgets) (0.1.6)\n",
      "Requirement already satisfied: nest-asyncio in /home/server4/anaconda3/envs/jy/lib/python3.11/site-packages (from ipykernel>=4.5.1->ipywidgets) (1.5.6)\n",
      "Requirement already satisfied: psutil in /home/server4/anaconda3/envs/jy/lib/python3.11/site-packages (from ipykernel>=4.5.1->ipywidgets) (5.9.0)\n",
      "Requirement already satisfied: pyzmq>=20 in /home/server4/anaconda3/envs/jy/lib/python3.11/site-packages (from ipykernel>=4.5.1->ipywidgets) (23.2.0)\n",
      "Requirement already satisfied: tornado>=6.1 in /home/server4/anaconda3/envs/jy/lib/python3.11/site-packages (from ipykernel>=4.5.1->ipywidgets) (6.3.3)\n",
      "Requirement already satisfied: backcall in /home/server4/anaconda3/envs/jy/lib/python3.11/site-packages (from ipython>=6.1.0->ipywidgets) (0.2.0)\n",
      "Requirement already satisfied: decorator in /home/server4/anaconda3/envs/jy/lib/python3.11/site-packages (from ipython>=6.1.0->ipywidgets) (5.1.1)\n",
      "Requirement already satisfied: jedi>=0.16 in /home/server4/anaconda3/envs/jy/lib/python3.11/site-packages (from ipython>=6.1.0->ipywidgets) (0.18.1)\n",
      "Requirement already satisfied: pickleshare in /home/server4/anaconda3/envs/jy/lib/python3.11/site-packages (from ipython>=6.1.0->ipywidgets) (0.7.5)\n",
      "Requirement already satisfied: prompt-toolkit!=3.0.37,<3.1.0,>=3.0.30 in /home/server4/anaconda3/envs/jy/lib/python3.11/site-packages (from ipython>=6.1.0->ipywidgets) (3.0.36)\n",
      "Requirement already satisfied: pygments>=2.4.0 in /home/server4/anaconda3/envs/jy/lib/python3.11/site-packages (from ipython>=6.1.0->ipywidgets) (2.15.1)\n",
      "Requirement already satisfied: stack-data in /home/server4/anaconda3/envs/jy/lib/python3.11/site-packages (from ipython>=6.1.0->ipywidgets) (0.2.0)\n",
      "Requirement already satisfied: pexpect>4.3 in /home/server4/anaconda3/envs/jy/lib/python3.11/site-packages (from ipython>=6.1.0->ipywidgets) (4.8.0)\n",
      "Requirement already satisfied: python-dateutil>=2.8.2 in /home/server4/anaconda3/envs/jy/lib/python3.11/site-packages (from pandas>=0.24->catboost) (2.8.2)\n",
      "Requirement already satisfied: pytz>=2020.1 in /home/server4/anaconda3/envs/jy/lib/python3.11/site-packages (from pandas>=0.24->catboost) (2023.3.post1)\n",
      "Requirement already satisfied: tzdata>=2022.1 in /home/server4/anaconda3/envs/jy/lib/python3.11/site-packages (from pandas>=0.24->catboost) (2023.3)\n",
      "Requirement already satisfied: greenlet!=0.4.17 in /home/server4/anaconda3/envs/jy/lib/python3.11/site-packages (from sqlalchemy>=1.3.0->optuna) (3.0.3)\n",
      "Requirement already satisfied: contourpy>=1.0.1 in /home/server4/anaconda3/envs/jy/lib/python3.11/site-packages (from matplotlib->catboost) (1.0.5)\n",
      "Requirement already satisfied: cycler>=0.10 in /home/server4/anaconda3/envs/jy/lib/python3.11/site-packages (from matplotlib->catboost) (0.11.0)\n",
      "Requirement already satisfied: fonttools>=4.22.0 in /home/server4/anaconda3/envs/jy/lib/python3.11/site-packages (from matplotlib->catboost) (4.25.0)\n",
      "Requirement already satisfied: kiwisolver>=1.0.1 in /home/server4/anaconda3/envs/jy/lib/python3.11/site-packages (from matplotlib->catboost) (1.4.4)\n",
      "Requirement already satisfied: pillow>=6.2.0 in /home/server4/anaconda3/envs/jy/lib/python3.11/site-packages (from matplotlib->catboost) (10.0.1)\n",
      "Requirement already satisfied: pyparsing<3.1,>=2.3.1 in /home/server4/anaconda3/envs/jy/lib/python3.11/site-packages (from matplotlib->catboost) (3.0.9)\n",
      "Requirement already satisfied: tenacity>=6.2.0 in /home/server4/anaconda3/envs/jy/lib/python3.11/site-packages (from plotly->catboost) (8.2.3)\n",
      "Requirement already satisfied: parso<0.9.0,>=0.8.0 in /home/server4/anaconda3/envs/jy/lib/python3.11/site-packages (from jedi>=0.16->ipython>=6.1.0->ipywidgets) (0.8.3)\n"
     ]
    },
    {
     "name": "stdout",
     "output_type": "stream",
     "text": [
      "Requirement already satisfied: entrypoints in /home/server4/anaconda3/envs/jy/lib/python3.11/site-packages (from jupyter-client>=6.1.12->ipykernel>=4.5.1->ipywidgets) (0.4)\n",
      "Requirement already satisfied: platformdirs>=2.5 in /home/server4/anaconda3/envs/jy/lib/python3.11/site-packages (from jupyter-core!=5.0.*,>=4.12->ipykernel>=4.5.1->ipywidgets) (3.10.0)\n",
      "Requirement already satisfied: ptyprocess>=0.5 in /home/server4/anaconda3/envs/jy/lib/python3.11/site-packages (from pexpect>4.3->ipython>=6.1.0->ipywidgets) (0.7.0)\n",
      "Requirement already satisfied: wcwidth in /home/server4/anaconda3/envs/jy/lib/python3.11/site-packages (from prompt-toolkit!=3.0.37,<3.1.0,>=3.0.30->ipython>=6.1.0->ipywidgets) (0.2.5)\n",
      "Requirement already satisfied: MarkupSafe>=0.9.2 in /home/server4/anaconda3/envs/jy/lib/python3.11/site-packages (from Mako->alembic>=1.5.0->optuna) (2.1.1)\n",
      "Requirement already satisfied: executing in /home/server4/anaconda3/envs/jy/lib/python3.11/site-packages (from stack-data->ipython>=6.1.0->ipywidgets) (0.8.3)\n",
      "Requirement already satisfied: asttokens in /home/server4/anaconda3/envs/jy/lib/python3.11/site-packages (from stack-data->ipython>=6.1.0->ipywidgets) (2.0.5)\n",
      "Requirement already satisfied: pure-eval in /home/server4/anaconda3/envs/jy/lib/python3.11/site-packages (from stack-data->ipython>=6.1.0->ipywidgets) (0.2.2)\n",
      "\u001b[33mWARNING: There was an error checking the latest version of pip.\u001b[0m\u001b[33m\n",
      "\u001b[0m"
     ]
    }
   ],
   "source": [
    "!pip3 install scikit-learn tqdm catboost optuna xgboost ipywidgets imblearn\n",
    "# 모델을 위해 필요한 라이브러리 설치(우수 예시에만 있는 부분)"
   ]
  },
  {
   "cell_type": "code",
   "execution_count": 290,
   "id": "a315cc58",
   "metadata": {},
   "outputs": [],
   "source": [
    "import pandas as pd\n",
    "import sklearn\n",
    "import numpy as np\n",
    "import random\n",
    "import os\n",
    "from imblearn.over_sampling import BorderlineSMOTE\n",
    "from sklearn.metrics import (\n",
    "    accuracy_score,\n",
    "    confusion_matrix,\n",
    "    f1_score,\n",
    "    precision_score,\n",
    "    recall_score,\n",
    ")\n",
    "import optuna\n",
    "from optuna.samplers import TPESampler\n",
    "from optuna.pruners import SuccessiveHalvingPruner\n",
    "from catboost import CatBoostClassifier, Pool\n",
    "\n",
    "import warnings\n",
    "warnings.filterwarnings('ignore')\n",
    "\n",
    "from sklearn.preprocessing import RobustScaler"
   ]
  },
  {
   "cell_type": "code",
   "execution_count": 291,
   "id": "462e268e",
   "metadata": {},
   "outputs": [],
   "source": [
    "def seed_everything(seed):\n",
    "    random.seed(seed)\n",
    "    os.environ['PYTHONHASHSEED'] = str(seed)\n",
    "    np.random.seed(seed)\n",
    "seed=42\n",
    "seed_everything(seed) # Seed 고정"
   ]
  },
  {
   "cell_type": "code",
   "execution_count": 292,
   "id": "7ada941e",
   "metadata": {},
   "outputs": [],
   "source": [
    "df_train = pd.read_csv(\"train.csv\") # 학습용 데이터\n",
    "df_test = pd.read_csv(\"submission.csv\") # 테스트 데이터(제출파일의 데이터)"
   ]
  },
  {
   "cell_type": "code",
   "execution_count": 293,
   "id": "ff10c5fb",
   "metadata": {},
   "outputs": [],
   "source": [
    "def category_all(df_train, df_test):\n",
    "    label_columns = [\n",
    "    \"customer_country\",\n",
    "    \"business_subarea\",\n",
    "    \"business_area\",\n",
    "    \"business_unit\",\n",
    "    \"customer_type\",\n",
    "    \"enterprise\",\n",
    "    \"customer_job\",\n",
    "    \"inquiry_type\",\n",
    "    \"product_category\",\n",
    "    \"product_subcategory\",\n",
    "    \"product_modelname\",\n",
    "    \"customer_position\",\n",
    "    \"response_corporate\",\n",
    "    \"expected_timeline\",\n",
    "    'customer_idx',\n",
    "    'lead_owner',\n",
    "    'id_strategic_ver',\n",
    "    'it_strategic_ver',\n",
    "    'idit_strategic_ver',\n",
    "    'ver_cus',\n",
    "    'ver_pro',\n",
    "    ]\n",
    "    for i in label_columns:\n",
    "        df_train[i] = df_train[i].astype('category')\n",
    "        df_test[i] = df_test[i].astype('category')\n",
    "    return df_train, df_test    \n",
    "\n",
    "\n",
    "def label_encoding(series: pd.Series) -> pd.Series:\n",
    "    \"\"\"범주형 데이터를 시리즈 형태로 받아 숫자형 데이터로 변환합니다.\"\"\"\n",
    "    \n",
    "    my_dict = {}\n",
    "\n",
    "    # 모든 요소를 문자열로 변환\n",
    "    series = series.astype(str)\n",
    "\n",
    "    for idx, value in enumerate(sorted(series.unique())):\n",
    "        my_dict[value] = idx\n",
    "    series = series.map(my_dict)\n",
    "\n",
    "    return series\n",
    "\n",
    "        \n",
    "def manage_label_encoding(df_train, df_test):\n",
    "    tmp = len(df_train)\n",
    "    label_columns = [\n",
    "    \"customer_country\",\n",
    "    \"business_subarea\",\n",
    "    \"business_area\",\n",
    "    \"business_unit\",\n",
    "    \"customer_type\",\n",
    "    \"enterprise\",\n",
    "    \"customer_job\",\n",
    "    \"inquiry_type\",\n",
    "    \"product_category\",\n",
    "    \"product_subcategory\",\n",
    "    \"product_modelname\",\n",
    "    \"customer_position\",\n",
    "    \"response_corporate\",\n",
    "    \"expected_timeline\",\n",
    "    'customer_idx',\n",
    "    'lead_owner',\n",
    "    'id_strategic_ver',\n",
    "    'it_strategic_ver',\n",
    "    'idit_strategic_ver',\n",
    "    'ver_cus',\n",
    "    'ver_pro',\n",
    "    ]\n",
    "    \n",
    "    df_all = pd.concat([df_train[label_columns], df_test[label_columns]])\n",
    "\n",
    "    for col in label_columns:\n",
    "        df_all[col] = label_encoding(df_all[col])\n",
    "    \n",
    "    for col in label_columns:  \n",
    "        df_train[col] = df_all.iloc[: tmp][col]\n",
    "        df_test[col] = df_all.iloc[tmp :][col]\n",
    "\n",
    "    return df_train, df_test\n",
    "\n",
    "def preprocessing(df_train, df_test):\n",
    "    df_train.drop_duplicates(keep='first', inplace=True)\n",
    "    df_train.reset_index(inplace=True)\n",
    "    df_train.drop('index',inplace=True, axis=1)\n",
    "    df_test_id_temp = df_test['id'].copy()\n",
    "    df_all = pd.concat([df_train,df_test.drop('id',axis=1)])\n",
    "    df_all.drop('customer_country.1',axis=1,inplace=True)\n",
    "    df_all.id_strategic_ver.fillna(0., inplace=True)\n",
    "    df_all.it_strategic_ver.fillna(0., inplace=True)\n",
    "    df_all.idit_strategic_ver.fillna(0., inplace=True)\n",
    "    df_all.business_subarea.fillna('NAN', inplace=True)\n",
    "    df_all.com_reg_ver_win_rate.fillna(0,inplace=True)\n",
    "    df_all['customer_type'] = df_all['customer_type'].replace({\n",
    "        'End-Customer':'End Customer'\n",
    "    })\n",
    "    df_all.customer_type.fillna('NAN',inplace=True)\n",
    "    df_all.historical_existing_cnt.fillna(0, inplace=True)\n",
    "    \n",
    "    df_all.product_subcategory.fillna('NAN', inplace=True)\n",
    "    \n",
    "    df_all.product_modelname.fillna('NAN', inplace=True)\n",
    "\n",
    "    df_all['expected_timeline'] = df_all['expected_timeline'].replace({\n",
    "        'less_than_3_months': 'less than 3 months',  # merge into 'less than 3 months'\n",
    "        'being followed up': 'being followed up.',  # merge into 'being followed up.'\n",
    "        'less than 6 months': '3 months ~ 6 months',  # merge into '3 months ~ 6 months'\n",
    "        '3_months_~_6_months' : '3 months ~ 6 months'\n",
    "    })\n",
    "\n",
    "    df_all.expected_timeline.fillna('NAN',inplace=True)\n",
    "    df_all.ver_win_rate_x.fillna(0,inplace=True)\n",
    "    df_all.ver_win_ratio_per_bu.fillna(0,inplace=True)\n",
    "    df_all.business_area.fillna('NAN',inplace=True)\n",
    "    df_all.customer_job.fillna('NAN', inplace=True)\n",
    "    df_all.product_category.fillna('NAN', inplace=True)\n",
    "    \n",
    "    #처리못한부분\n",
    "    #customer_country\n",
    "    df_all.customer_country.fillna('NAN', inplace=True)\n",
    "    #inquiry_type\n",
    "    df_all.inquiry_type.fillna('NAN', inplace=True)\n",
    "\n",
    "    label_columns = [\n",
    "    \"customer_country\",\n",
    "    \"business_subarea\",\n",
    "    \"business_area\",\n",
    "    \"business_unit\",\n",
    "    \"customer_type\",\n",
    "    \"enterprise\",\n",
    "    \"customer_job\",\n",
    "    \"inquiry_type\",\n",
    "    \"product_category\",\n",
    "    \"product_subcategory\",\n",
    "    \"product_modelname\",\n",
    "    \"customer_position\",\n",
    "    \"response_corporate\",\n",
    "    \"expected_timeline\",\n",
    "    ]\n",
    "    \n",
    "    ###############################\n",
    "    #detect special char and to lower\n",
    "    for i in label_columns:\n",
    "        df_all[i] = df_all[i].str.lower()\n",
    "        df_all[i] = df_all[i].str.replace(pat=r'[^\\w]', repl=r'', regex=True)\n",
    "        \n",
    "    #to int\n",
    "    df_all['id_strategic_ver'] = df_all['id_strategic_ver'].astype('int64')\n",
    "    df_all['it_strategic_ver'] = df_all['it_strategic_ver'].astype('int64')\n",
    "    df_all['idit_strategic_ver'] = df_all['idit_strategic_ver'].astype('int64')\n",
    "    df_all['lead_desc_length'] = df_all['lead_desc_length'].astype('int64')\n",
    "    df_all['historical_existing_cnt'] = df_all['historical_existing_cnt'].astype('int64')\n",
    "    \n",
    "    #seperate\n",
    "    tmp_len = len(df_train)\n",
    "    df_train = df_all.iloc[: tmp_len ]\n",
    "    df_test = df_all.iloc[tmp_len :]\n",
    "    df_test = pd.concat([df_test,df_test_id_temp],axis=1)\n",
    "    \n",
    "    #RobustScaler\n",
    "    robustScaler = RobustScaler()\n",
    "    df_train['ver_win_rate_x'] = robustScaler.fit_transform(df_train[['ver_win_rate_x']])\n",
    "    df_test['ver_win_rate_x'] = robustScaler.transform(df_test[['ver_win_rate_x']])\n",
    "    robustScaler = RobustScaler()\n",
    "    df_train['ver_win_ratio_per_bu'] = robustScaler.fit_transform(df_train[['ver_win_ratio_per_bu']])\n",
    "    df_test['ver_win_ratio_per_bu'] = robustScaler.transform(df_test[['ver_win_ratio_per_bu']])\n",
    "    ###############################\n",
    "    \n",
    "    return df_train, df_test\n",
    "\n",
    "\n",
    "df_train, df_test = preprocessing(df_train, df_test)\n",
    "df_train, df_test = category_all(df_train, df_test)"
   ]
  },
  {
   "cell_type": "code",
   "execution_count": 294,
   "id": "6bc3d691",
   "metadata": {},
   "outputs": [
    {
     "name": "stdout",
     "output_type": "stream",
     "text": [
      "<class 'pandas.core.frame.DataFrame'>\n",
      "Index: 55780 entries, 0 to 55779\n",
      "Data columns (total 28 columns):\n",
      " #   Column                   Non-Null Count  Dtype   \n",
      "---  ------                   --------------  -----   \n",
      " 0   bant_submit              55780 non-null  float64 \n",
      " 1   customer_country         55780 non-null  category\n",
      " 2   business_unit            55780 non-null  category\n",
      " 3   com_reg_ver_win_rate     55780 non-null  float64 \n",
      " 4   customer_idx             55780 non-null  category\n",
      " 5   customer_type            55780 non-null  category\n",
      " 6   enterprise               55780 non-null  category\n",
      " 7   historical_existing_cnt  55780 non-null  int64   \n",
      " 8   id_strategic_ver         55780 non-null  category\n",
      " 9   it_strategic_ver         55780 non-null  category\n",
      " 10  idit_strategic_ver       55780 non-null  category\n",
      " 11  customer_job             55780 non-null  category\n",
      " 12  lead_desc_length         55780 non-null  int64   \n",
      " 13  inquiry_type             55780 non-null  category\n",
      " 14  product_category         55780 non-null  category\n",
      " 15  product_subcategory      55780 non-null  category\n",
      " 16  product_modelname        55780 non-null  category\n",
      " 17  customer_position        55780 non-null  category\n",
      " 18  response_corporate       55780 non-null  category\n",
      " 19  expected_timeline        55780 non-null  category\n",
      " 20  ver_cus                  55780 non-null  category\n",
      " 21  ver_pro                  55780 non-null  category\n",
      " 22  ver_win_rate_x           55780 non-null  float64 \n",
      " 23  ver_win_ratio_per_bu     55780 non-null  float64 \n",
      " 24  business_area            55780 non-null  category\n",
      " 25  business_subarea         55780 non-null  category\n",
      " 26  lead_owner               55780 non-null  category\n",
      " 27  is_converted             55780 non-null  object  \n",
      "dtypes: category(21), float64(4), int64(2), object(1)\n",
      "memory usage: 6.8+ MB\n"
     ]
    }
   ],
   "source": [
    "df_train.info()"
   ]
  },
  {
   "cell_type": "code",
   "execution_count": 295,
   "id": "27c9e205",
   "metadata": {},
   "outputs": [],
   "source": [
    "rate = ((len(df_train)-sum(df_train['is_converted']))/sum(df_train['is_converted']))\n",
    "def custom_split(df_train, num=5, idx=0, smote=False, false_rate=1):\n",
    "    global rate\n",
    "\n",
    "    #shuffle\n",
    "    true_df_train = sklearn.utils.shuffle(df_train[df_train[\"is_converted\"]==True], random_state=seed)\n",
    "    false_df_train = sklearn.utils.shuffle(df_train[df_train[\"is_converted\"]==False], random_state=seed)\n",
    "    \n",
    "    #k-fold num\n",
    "    slice_num = len(true_df_train) // num\n",
    "    \n",
    "    #True:False = 1:1\n",
    "    tmp_train = pd.concat([true_df_train[0:slice_num*idx],\n",
    "                           true_df_train[slice_num*(idx+1):],\n",
    "                           false_df_train[0:int((slice_num*false_rate)*idx)],\n",
    "                           false_df_train[int((slice_num*false_rate)*(idx+1)):]])\n",
    "    tmp_val = pd.concat([true_df_train[slice_num*idx:slice_num*(idx+1)],\n",
    "                         false_df_train[int((slice_num*false_rate)*idx):int((slice_num*false_rate)*(idx+1))]])\n",
    "    #shuffle\n",
    "    tmp_train = sklearn.utils.shuffle(tmp_train, random_state=seed)\n",
    "    tmp_val = sklearn.utils.shuffle(tmp_val, random_state=seed)\n",
    "\n",
    "    #split x and y\n",
    "    x_train, y_train = tmp_train.drop(\"is_converted\",axis=1), tmp_train[\"is_converted\"]\n",
    "    x_val, y_val = tmp_val.drop(\"is_converted\",axis=1), tmp_val[\"is_converted\"]\n",
    "    \n",
    "    if(smote):\n",
    "        sm = BorderlineSMOTE(random_state=seed)\n",
    "        x_train, y_train = sm.fit_resample(x_train, y_train)\n",
    "    categorical_features = label_columns = [\n",
    "                                            \"customer_country\",\n",
    "                                            \"business_subarea\",\n",
    "                                            \"business_area\",\n",
    "                                            \"business_unit\",\n",
    "                                            \"customer_type\",\n",
    "                                            \"enterprise\",\n",
    "                                            \"customer_job\",\n",
    "                                            \"inquiry_type\",\n",
    "                                            \"product_category\",\n",
    "                                            \"product_subcategory\",\n",
    "                                            \"product_modelname\",\n",
    "                                            \"customer_position\",\n",
    "                                            \"response_corporate\",\n",
    "                                            \"expected_timeline\",\n",
    "                                            'customer_idx',\n",
    "                                            'lead_owner',\n",
    "                                            'id_strategic_ver',\n",
    "                                            'it_strategic_ver',\n",
    "                                            'idit_strategic_ver',\n",
    "                                            'ver_cus',\n",
    "                                            'ver_pro',\n",
    "                                        ]\n",
    "    train_pool = Pool(data=x_train, label=y_train, cat_features=categorical_features)\n",
    "    val_pool = Pool(data=x_val, label=y_val, cat_features=categorical_features)\n",
    "\n",
    "    return train_pool, val_pool, list(y_val)\n",
    "\n",
    "\n",
    "all_train_pool = []\n",
    "all_val_pool = []\n",
    "all_y_val = []\n",
    "k_fold_num = 10\n",
    "for idx in range(k_fold_num):\n",
    "    bundle = custom_split(df_train, num=k_fold_num, idx=idx, smote=False, false_rate=rate)\n",
    "    all_train_pool.append(bundle[0])\n",
    "    all_val_pool.append(bundle[1])\n",
    "    all_y_val.append(bundle[2])"
   ]
  },
  {
   "cell_type": "code",
   "execution_count": 296,
   "id": "b5605391",
   "metadata": {
    "scrolled": false
   },
   "outputs": [
    {
     "name": "stderr",
     "output_type": "stream",
     "text": [
      "[I 2024-02-09 20:09:08,375] A new study created in memory with name: no-name-f3e39d91-6a4d-4033-8100-34e2a7b4596c\n",
      "[I 2024-02-09 20:09:22,288] Trial 0 finished with value: 0.8530150182666446 and parameters: {'iterations': 11862, 'learning_rate': 0.9507635921035062, 'reg_lambda': 73.19939418382057, 'random_strength': 59.86584841970366, 'min_data_in_leaf': 16, 'leaf_estimation_iterations': 3, 'bagging_temperature': 0.017073967431528128}. Best is trial 0 with value: 0.8530150182666446.\n"
     ]
    },
    {
     "name": "stdout",
     "output_type": "stream",
     "text": [
      "0.7538655343687869\n"
     ]
    },
    {
     "name": "stderr",
     "output_type": "stream",
     "text": [
      "[I 2024-02-09 20:09:42,047] Trial 1 finished with value: 0.8594553006037884 and parameters: {'iterations': 26119, 'learning_rate': 0.6015138967314656, 'reg_lambda': 70.80725778252382, 'random_strength': 2.0584494295802447, 'min_data_in_leaf': 97, 'leaf_estimation_iterations': 13, 'bagging_temperature': 0.07068974950624607}. Best is trial 1 with value: 0.8594553006037884.\n"
     ]
    },
    {
     "name": "stdout",
     "output_type": "stream",
     "text": [
      "0.7702093025062784\n"
     ]
    },
    {
     "name": "stderr",
     "output_type": "stream",
     "text": [
      "[I 2024-02-09 20:10:06,814] Trial 2 finished with value: 0.844760279509843 and parameters: {'iterations': 6273, 'learning_rate': 0.18422110534358038, 'reg_lambda': 30.42422430291135, 'random_strength': 52.475643163223786, 'min_data_in_leaf': 44, 'leaf_estimation_iterations': 5, 'bagging_temperature': 2.801635158716261}. Best is trial 1 with value: 0.8594553006037884.\n"
     ]
    },
    {
     "name": "stdout",
     "output_type": "stream",
     "text": [
      "0.7412521607512879\n"
     ]
    },
    {
     "name": "stderr",
     "output_type": "stream",
     "text": [
      "[I 2024-02-09 20:10:27,765] Trial 3 finished with value: 0.8565632299393677 and parameters: {'iterations': 5045, 'learning_rate': 0.29285250388668294, 'reg_lambda': 36.63618433570556, 'random_strength': 45.606998421703594, 'min_data_in_leaf': 79, 'leaf_estimation_iterations': 3, 'bagging_temperature': 1.1400863701127328}. Best is trial 1 with value: 0.8594553006037884.\n"
     ]
    },
    {
     "name": "stdout",
     "output_type": "stream",
     "text": [
      "0.7611784079306837\n"
     ]
    },
    {
     "name": "stderr",
     "output_type": "stream",
     "text": [
      "[I 2024-02-09 20:10:35,191] Trial 4 finished with value: 0.7109518671966885 and parameters: {'iterations': 18180, 'learning_rate': 0.047403962307277725, 'reg_lambda': 60.754485194068394, 'random_strength': 17.052412368729154, 'min_data_in_leaf': 7, 'leaf_estimation_iterations': 15, 'bagging_temperature': 72.86653737491046}. Best is trial 1 with value: 0.8594553006037884.\n"
     ]
    },
    {
     "name": "stdout",
     "output_type": "stream",
     "text": [
      "0.7584838209734636\n"
     ]
    },
    {
     "name": "stderr",
     "output_type": "stream",
     "text": [
      "[I 2024-02-09 20:10:52,735] Trial 5 finished with value: 0.8542372513432719 and parameters: {'iterations': 24444, 'learning_rate': 0.30530915540419734, 'reg_lambda': 9.767211409661668, 'random_strength': 68.42330265121569, 'min_data_in_leaf': 45, 'leaf_estimation_iterations': 2, 'bagging_temperature': 0.9565499215943827}. Best is trial 1 with value: 0.8594553006037884.\n"
     ]
    },
    {
     "name": "stdout",
     "output_type": "stream",
     "text": [
      "0.759773203985245\n"
     ]
    },
    {
     "name": "stderr",
     "output_type": "stream",
     "text": [
      "[I 2024-02-09 20:11:06,661] Trial 6 finished with value: 0.8413441650655387 and parameters: {'iterations': 1997, 'learning_rate': 0.9094110816767033, 'reg_lambda': 25.877998167413896, 'random_strength': 66.2522284353982, 'min_data_in_leaf': 32, 'leaf_estimation_iterations': 8, 'bagging_temperature': 1.5375920235481764}. Best is trial 1 with value: 0.8594553006037884.\n"
     ]
    },
    {
     "name": "stdout",
     "output_type": "stream",
     "text": [
      "0.7441601916029388\n"
     ]
    },
    {
     "name": "stderr",
     "output_type": "stream",
     "text": [
      "[I 2024-02-09 20:11:14,005] Trial 7 finished with value: 0.7109518671966885 and parameters: {'iterations': 6360, 'learning_rate': 0.969615043136794, 'reg_lambda': 77.51328233836013, 'random_strength': 93.9498941564189, 'min_data_in_leaf': 90, 'leaf_estimation_iterations': 9, 'bagging_temperature': 48.696409415209004}. Best is trial 1 with value: 0.8594553006037884.\n"
     ]
    },
    {
     "name": "stdout",
     "output_type": "stream",
     "text": [
      "0.7584838209734636\n"
     ]
    },
    {
     "name": "stderr",
     "output_type": "stream",
     "text": [
      "[I 2024-02-09 20:11:50,611] Trial 8 finished with value: 0.7567934011636511 and parameters: {'iterations': 3566, 'learning_rate': 0.19678687955672605, 'reg_lambda': 4.522728900601534, 'random_strength': 32.53303307632643, 'min_data_in_leaf': 39, 'leaf_estimation_iterations': 5, 'bagging_temperature': 20.651425578959262}. Best is trial 1 with value: 0.8594553006037884.\n"
     ]
    },
    {
     "name": "stdout",
     "output_type": "stream",
     "text": [
      "0.6042794430199429\n"
     ]
    },
    {
     "name": "stderr",
     "output_type": "stream",
     "text": [
      "[I 2024-02-09 20:11:57,466] Trial 9 finished with value: 0.7109518671966885 and parameters: {'iterations': 11346, 'learning_rate': 0.2816535751776934, 'reg_lambda': 54.26960832039789, 'random_strength': 14.092422497476264, 'min_data_in_leaf': 81, 'leaf_estimation_iterations': 2, 'bagging_temperature': 88.62326508576255}. Best is trial 1 with value: 0.8594553006037884.\n"
     ]
    },
    {
     "name": "stdout",
     "output_type": "stream",
     "text": [
      "0.7584838209734636\n"
     ]
    },
    {
     "name": "stderr",
     "output_type": "stream",
     "text": [
      "[I 2024-02-09 20:12:15,503] Trial 10 finished with value: 0.8584199825817361 and parameters: {'iterations': 29387, 'learning_rate': 0.6556785267510751, 'reg_lambda': 96.95371107909124, 'random_strength': 1.7961875614819434, 'min_data_in_leaf': 65, 'leaf_estimation_iterations': 14, 'bagging_temperature': 0.021064468501944014}. Best is trial 1 with value: 0.8594553006037884.\n"
     ]
    },
    {
     "name": "stdout",
     "output_type": "stream",
     "text": [
      "0.7674893158128232\n"
     ]
    },
    {
     "name": "stderr",
     "output_type": "stream",
     "text": [
      "[I 2024-02-09 20:12:31,984] Trial 11 finished with value: 0.8536040525714641 and parameters: {'iterations': 29432, 'learning_rate': 0.6272567612616611, 'reg_lambda': 99.74654747662224, 'random_strength': 0.8747366968610667, 'min_data_in_leaf': 67, 'leaf_estimation_iterations': 14, 'bagging_temperature': 0.01875348045209675}. Best is trial 1 with value: 0.8594553006037884.\n"
     ]
    },
    {
     "name": "stdout",
     "output_type": "stream",
     "text": [
      "0.7572081051429285\n"
     ]
    },
    {
     "name": "stderr",
     "output_type": "stream",
     "text": [
      "[I 2024-02-09 20:12:49,511] Trial 12 finished with value: 0.8561449178467825 and parameters: {'iterations': 29820, 'learning_rate': 0.6277679970235266, 'reg_lambda': 99.45420872881476, 'random_strength': 0.43462278479123495, 'min_data_in_leaf': 63, 'leaf_estimation_iterations': 12, 'bagging_temperature': 0.09470314305954813}. Best is trial 1 with value: 0.8594553006037884.\n"
     ]
    },
    {
     "name": "stdout",
     "output_type": "stream",
     "text": [
      "0.7618569352606647\n"
     ]
    },
    {
     "name": "stderr",
     "output_type": "stream",
     "text": [
      "[I 2024-02-09 20:13:05,253] Trial 13 finished with value: 0.8542195435550275 and parameters: {'iterations': 22947, 'learning_rate': 0.6923736143258277, 'reg_lambda': 80.9773397051379, 'random_strength': 26.146514454869475, 'min_data_in_leaf': 99, 'leaf_estimation_iterations': 11, 'bagging_temperature': 0.08101324842116016}. Best is trial 1 with value: 0.8594553006037884.\n"
     ]
    },
    {
     "name": "stdout",
     "output_type": "stream",
     "text": [
      "0.7625516412226091\n"
     ]
    },
    {
     "name": "stderr",
     "output_type": "stream",
     "text": [
      "[I 2024-02-09 20:13:22,782] Trial 14 finished with value: 0.8564872918197501 and parameters: {'iterations': 24212, 'learning_rate': 0.4680293148649111, 'reg_lambda': 87.17031008883396, 'random_strength': 12.870997019648975, 'min_data_in_leaf': 62, 'leaf_estimation_iterations': 12, 'bagging_temperature': 0.11516744025981103}. Best is trial 1 with value: 0.8594553006037884.\n"
     ]
    },
    {
     "name": "stdout",
     "output_type": "stream",
     "text": [
      "0.7612429819078985\n"
     ]
    },
    {
     "name": "stderr",
     "output_type": "stream",
     "text": [
      "[I 2024-02-09 20:13:42,230] Trial 15 finished with value: 0.8563806441153808 and parameters: {'iterations': 19696, 'learning_rate': 0.7647770038281734, 'reg_lambda': 63.634222628284014, 'random_strength': 34.92963122689709, 'min_data_in_leaf': 100, 'leaf_estimation_iterations': 14, 'bagging_temperature': 0.25327114788599464}. Best is trial 1 with value: 0.8594553006037884.\n"
     ]
    },
    {
     "name": "stdout",
     "output_type": "stream",
     "text": [
      "0.7712028466723203\n"
     ]
    },
    {
     "name": "stderr",
     "output_type": "stream",
     "text": [
      "[I 2024-02-09 20:14:00,832] Trial 16 finished with value: 0.8574279772452815 and parameters: {'iterations': 26731, 'learning_rate': 0.4739655146776491, 'reg_lambda': 88.05713128791625, 'random_strength': 85.73911300093486, 'min_data_in_leaf': 79, 'leaf_estimation_iterations': 10, 'bagging_temperature': 0.011065136021090997}. Best is trial 1 with value: 0.8594553006037884.\n"
     ]
    },
    {
     "name": "stdout",
     "output_type": "stream",
     "text": [
      "0.7644230540576624\n"
     ]
    },
    {
     "name": "stderr",
     "output_type": "stream",
     "text": [
      "[I 2024-02-09 20:14:17,230] Trial 17 finished with value: 0.8546822854227012 and parameters: {'iterations': 19996, 'learning_rate': 0.7963976000342017, 'reg_lambda': 46.416649609853486, 'random_strength': 7.018847425761147, 'min_data_in_leaf': 57, 'leaf_estimation_iterations': 13, 'bagging_temperature': 0.038578655738148664}. Best is trial 1 with value: 0.8594553006037884.\n"
     ]
    },
    {
     "name": "stdout",
     "output_type": "stream",
     "text": [
      "0.7641264756073072\n"
     ]
    },
    {
     "name": "stderr",
     "output_type": "stream",
     "text": [
      "[I 2024-02-09 20:14:34,869] Trial 18 finished with value: 0.8547984639017203 and parameters: {'iterations': 26880, 'learning_rate': 0.5558050716155853, 'reg_lambda': 66.87918727852504, 'random_strength': 21.263036293030744, 'min_data_in_leaf': 73, 'leaf_estimation_iterations': 15, 'bagging_temperature': 0.29823400101962777}. Best is trial 1 with value: 0.8594553006037884.\n"
     ]
    },
    {
     "name": "stdout",
     "output_type": "stream",
     "text": [
      "0.765008183214696\n"
     ]
    },
    {
     "name": "stderr",
     "output_type": "stream",
     "text": [
      "[I 2024-02-09 20:14:53,886] Trial 19 finished with value: 0.8601878806359344 and parameters: {'iterations': 21979, 'learning_rate': 0.4208939005131713, 'reg_lambda': 90.7705661422377, 'random_strength': 32.01560045100456, 'min_data_in_leaf': 27, 'leaf_estimation_iterations': 7, 'bagging_temperature': 0.0453129298652518}. Best is trial 19 with value: 0.8601878806359344.\n"
     ]
    },
    {
     "name": "stdout",
     "output_type": "stream",
     "text": [
      "0.7675619084580163\n"
     ]
    },
    {
     "name": "stderr",
     "output_type": "stream",
     "text": [
      "[I 2024-02-09 20:15:14,329] Trial 20 finished with value: 0.8593682870181683 and parameters: {'iterations': 15257, 'learning_rate': 0.40548311062258774, 'reg_lambda': 87.42317790677313, 'random_strength': 36.06791970055565, 'min_data_in_leaf': 24, 'leaf_estimation_iterations': 7, 'bagging_temperature': 0.3546395061909741}. Best is trial 19 with value: 0.8601878806359344.\n"
     ]
    },
    {
     "name": "stdout",
     "output_type": "stream",
     "text": [
      "0.7689530242527869\n"
     ]
    },
    {
     "name": "stderr",
     "output_type": "stream",
     "text": [
      "[I 2024-02-09 20:15:36,151] Trial 21 finished with value: 0.859792369637266 and parameters: {'iterations': 14850, 'learning_rate': 0.4042311481152849, 'reg_lambda': 87.56509453832098, 'random_strength': 41.94405354308335, 'min_data_in_leaf': 23, 'leaf_estimation_iterations': 7, 'bagging_temperature': 0.28547622963343294}. Best is trial 19 with value: 0.8601878806359344.\n"
     ]
    },
    {
     "name": "stdout",
     "output_type": "stream",
     "text": [
      "0.7726150423048352\n"
     ]
    },
    {
     "name": "stderr",
     "output_type": "stream",
     "text": [
      "[I 2024-02-09 20:15:54,583] Trial 22 finished with value: 0.8593762531385423 and parameters: {'iterations': 15967, 'learning_rate': 0.409464869517336, 'reg_lambda': 71.88250774994415, 'random_strength': 44.53483830941985, 'min_data_in_leaf': 5, 'leaf_estimation_iterations': 6, 'bagging_temperature': 0.07023338285185876}. Best is trial 19 with value: 0.8601878806359344.\n"
     ]
    },
    {
     "name": "stdout",
     "output_type": "stream",
     "text": [
      "0.7668044543290323\n"
     ]
    },
    {
     "name": "stderr",
     "output_type": "stream",
     "text": [
      "[I 2024-02-09 20:16:12,232] Trial 23 finished with value: 0.8574213570787954 and parameters: {'iterations': 21679, 'learning_rate': 0.5459361553349446, 'reg_lambda': 82.96563357063496, 'random_strength': 29.700838112440344, 'min_data_in_leaf': 25, 'leaf_estimation_iterations': 9, 'bagging_temperature': 0.1910666891568116}. Best is trial 19 with value: 0.8601878806359344.\n"
     ]
    },
    {
     "name": "stdout",
     "output_type": "stream",
     "text": [
      "0.765059164374041\n"
     ]
    },
    {
     "name": "stderr",
     "output_type": "stream",
     "text": [
      "[I 2024-02-09 20:16:33,894] Trial 24 finished with value: 0.8604646623765284 and parameters: {'iterations': 11277, 'learning_rate': 0.38215257439038874, 'reg_lambda': 49.629685339591376, 'random_strength': 41.62907372940295, 'min_data_in_leaf': 16, 'leaf_estimation_iterations': 7, 'bagging_temperature': 0.5258678603570075}. Best is trial 24 with value: 0.8604646623765284.\n"
     ]
    },
    {
     "name": "stdout",
     "output_type": "stream",
     "text": [
      "0.7726609264846586\n"
     ]
    },
    {
     "name": "stderr",
     "output_type": "stream",
     "text": [
      "[I 2024-02-09 20:16:52,544] Trial 25 finished with value: 0.8583897712810915 and parameters: {'iterations': 10558, 'learning_rate': 0.382267762186216, 'reg_lambda': 45.93693073168638, 'random_strength': 56.01736265341834, 'min_data_in_leaf': 14, 'leaf_estimation_iterations': 7, 'bagging_temperature': 0.6455139022118254}. Best is trial 24 with value: 0.8604646623765284.\n"
     ]
    },
    {
     "name": "stdout",
     "output_type": "stream",
     "text": [
      "0.7663466421292825\n"
     ]
    },
    {
     "name": "stderr",
     "output_type": "stream",
     "text": [
      "[I 2024-02-09 20:17:18,590] Trial 26 finished with value: 0.8408457356138379 and parameters: {'iterations': 8991, 'learning_rate': 0.17523624594440537, 'reg_lambda': 18.032774343889518, 'random_strength': 40.190540237705314, 'min_data_in_leaf': 30, 'leaf_estimation_iterations': 5, 'bagging_temperature': 3.648551942579751}. Best is trial 24 with value: 0.8604646623765284.\n"
     ]
    },
    {
     "name": "stdout",
     "output_type": "stream",
     "text": [
      "0.7342888738250786\n"
     ]
    },
    {
     "name": "stderr",
     "output_type": "stream",
     "text": [
      "[I 2024-02-09 20:17:57,179] Trial 27 finished with value: 0.790548325952565 and parameters: {'iterations': 14289, 'learning_rate': 0.019293885892421092, 'reg_lambda': 59.171234489076205, 'random_strength': 75.108108745223, 'min_data_in_leaf': 16, 'leaf_estimation_iterations': 7, 'bagging_temperature': 6.701379095869707}. Best is trial 24 with value: 0.8604646623765284.\n"
     ]
    },
    {
     "name": "stdout",
     "output_type": "stream",
     "text": [
      "0.6336940545025326\n"
     ]
    },
    {
     "name": "stderr",
     "output_type": "stream",
     "text": [
      "[I 2024-02-09 20:18:18,817] Trial 28 finished with value: 0.8622193609188031 and parameters: {'iterations': 13708, 'learning_rate': 0.3479168736274022, 'reg_lambda': 39.45305852033996, 'random_strength': 48.31238246508907, 'min_data_in_leaf': 33, 'leaf_estimation_iterations': 9, 'bagging_temperature': 0.6588364117352957}. Best is trial 28 with value: 0.8622193609188031.\n"
     ]
    },
    {
     "name": "stdout",
     "output_type": "stream",
     "text": [
      "0.7740058214047059\n"
     ]
    },
    {
     "name": "stderr",
     "output_type": "stream",
     "text": [
      "[I 2024-02-09 20:18:45,914] Trial 29 finished with value: 0.8528312288165143 and parameters: {'iterations': 12877, 'learning_rate': 0.12907135372414846, 'reg_lambda': 39.15563307168418, 'random_strength': 62.38515922848655, 'min_data_in_leaf': 36, 'leaf_estimation_iterations': 9, 'bagging_temperature': 0.5767344855922646}. Best is trial 28 with value: 0.8622193609188031.\n"
     ]
    },
    {
     "name": "stdout",
     "output_type": "stream",
     "text": [
      "0.7526321546027253\n"
     ]
    },
    {
     "name": "stderr",
     "output_type": "stream",
     "text": [
      "[I 2024-02-09 20:19:13,134] Trial 30 finished with value: 0.800571243187121 and parameters: {'iterations': 8474, 'learning_rate': 0.3299469031296288, 'reg_lambda': 41.9559385115907, 'random_strength': 49.276450213554526, 'min_data_in_leaf': 52, 'leaf_estimation_iterations': 4, 'bagging_temperature': 10.046753651958149}. Best is trial 28 with value: 0.8622193609188031.\n"
     ]
    },
    {
     "name": "stdout",
     "output_type": "stream",
     "text": [
      "0.6680256032573586\n"
     ]
    },
    {
     "name": "stderr",
     "output_type": "stream",
     "text": [
      "[I 2024-02-09 20:19:32,554] Trial 31 finished with value: 0.8608717205183879 and parameters: {'iterations': 18142, 'learning_rate': 0.36086795462126847, 'reg_lambda': 54.009440120515386, 'random_strength': 39.69906025315887, 'min_data_in_leaf': 19, 'leaf_estimation_iterations': 8, 'bagging_temperature': 0.5430278926785758}. Best is trial 28 with value: 0.8622193609188031.\n"
     ]
    },
    {
     "name": "stdout",
     "output_type": "stream",
     "text": [
      "0.7713105406038756\n"
     ]
    },
    {
     "name": "stderr",
     "output_type": "stream",
     "text": [
      "[I 2024-02-09 20:19:51,388] Trial 32 finished with value: 0.8512327345738747 and parameters: {'iterations': 17629, 'learning_rate': 0.5011227453270327, 'reg_lambda': 52.15783539460375, 'random_strength': 57.31079301042796, 'min_data_in_leaf': 15, 'leaf_estimation_iterations': 8, 'bagging_temperature': 1.9713831628745215}. Best is trial 28 with value: 0.8622193609188031.\n"
     ]
    },
    {
     "name": "stdout",
     "output_type": "stream",
     "text": [
      "0.7559286726109529\n"
     ]
    },
    {
     "name": "stderr",
     "output_type": "stream",
     "text": [
      "[I 2024-02-09 20:20:14,396] Trial 33 finished with value: 0.8587422098778325 and parameters: {'iterations': 12827, 'learning_rate': 0.24455417998744094, 'reg_lambda': 30.998288673141143, 'random_strength': 49.252863061003566, 'min_data_in_leaf': 2, 'leaf_estimation_iterations': 10, 'bagging_temperature': 0.5485322301766777}. Best is trial 28 with value: 0.8622193609188031.\n"
     ]
    },
    {
     "name": "stdout",
     "output_type": "stream",
     "text": [
      "0.765536367807613\n"
     ]
    },
    {
     "name": "stderr",
     "output_type": "stream",
     "text": [
      "[I 2024-02-09 20:20:35,340] Trial 34 finished with value: 0.8602723455266161 and parameters: {'iterations': 20054, 'learning_rate': 0.33725273655028437, 'reg_lambda': 24.675703654331958, 'random_strength': 38.11112055702607, 'min_data_in_leaf': 20, 'leaf_estimation_iterations': 10, 'bagging_temperature': 0.1552809414754725}. Best is trial 28 with value: 0.8622193609188031.\n"
     ]
    },
    {
     "name": "stdout",
     "output_type": "stream",
     "text": [
      "0.7716269421354831\n"
     ]
    },
    {
     "name": "stderr",
     "output_type": "stream",
     "text": [
      "[I 2024-02-09 20:20:57,673] Trial 35 finished with value: 0.862985924464566 and parameters: {'iterations': 17015, 'learning_rate': 0.33894490308390024, 'reg_lambda': 19.27076539492493, 'random_strength': 24.437706449348912, 'min_data_in_leaf': 11, 'leaf_estimation_iterations': 10, 'bagging_temperature': 0.16410855807489796}. Best is trial 35 with value: 0.862985924464566.\n"
     ]
    },
    {
     "name": "stdout",
     "output_type": "stream",
     "text": [
      "0.775755398712682\n"
     ]
    },
    {
     "name": "stderr",
     "output_type": "stream",
     "text": [
      "[I 2024-02-09 20:21:30,199] Trial 36 finished with value: 0.8517570677645254 and parameters: {'iterations': 16866, 'learning_rate': 0.09509598265130931, 'reg_lambda': 16.544460789145134, 'random_strength': 25.489325973848125, 'min_data_in_leaf': 8, 'leaf_estimation_iterations': 11, 'bagging_temperature': 0.8862754633455546}. Best is trial 35 with value: 0.862985924464566.\n"
     ]
    },
    {
     "name": "stdout",
     "output_type": "stream",
     "text": [
      "0.7517825337974491\n"
     ]
    },
    {
     "name": "stderr",
     "output_type": "stream",
     "text": [
      "[I 2024-02-09 20:21:56,876] Trial 37 finished with value: 0.8413262918162164 and parameters: {'iterations': 10071, 'learning_rate': 0.2115282189228257, 'reg_lambda': 32.26090663682013, 'random_strength': 52.1604038169138, 'min_data_in_leaf': 10, 'leaf_estimation_iterations': 6, 'bagging_temperature': 4.358800709498408}. Best is trial 35 with value: 0.862985924464566.\n"
     ]
    },
    {
     "name": "stdout",
     "output_type": "stream",
     "text": [
      "0.7350335360133853\n"
     ]
    },
    {
     "name": "stderr",
     "output_type": "stream",
     "text": [
      "[I 2024-02-09 20:22:16,951] Trial 38 finished with value: 0.8473880297287021 and parameters: {'iterations': 13533, 'learning_rate': 0.3287591675086118, 'reg_lambda': 55.336496440780664, 'random_strength': 21.796637792111934, 'min_data_in_leaf': 45, 'leaf_estimation_iterations': 8, 'bagging_temperature': 1.8110422907921462}. Best is trial 35 with value: 0.862985924464566.\n"
     ]
    },
    {
     "name": "stdout",
     "output_type": "stream",
     "text": [
      "0.745425410106755\n"
     ]
    },
    {
     "name": "stderr",
     "output_type": "stream",
     "text": [
      "[I 2024-02-09 20:22:38,694] Trial 39 finished with value: 0.8594971339016787 and parameters: {'iterations': 18552, 'learning_rate': 0.23231346306800404, 'reg_lambda': 0.5458575476767038, 'random_strength': 46.56135058385378, 'min_data_in_leaf': 19, 'leaf_estimation_iterations': 9, 'bagging_temperature': 0.4384528998076871}. Best is trial 35 with value: 0.862985924464566.\n"
     ]
    },
    {
     "name": "stdout",
     "output_type": "stream",
     "text": [
      "0.7718081206172103\n"
     ]
    },
    {
     "name": "stderr",
     "output_type": "stream",
     "text": [
      "[I 2024-02-09 20:23:03,560] Trial 40 finished with value: 0.8566489170776901 and parameters: {'iterations': 6954, 'learning_rate': 0.2867789579151464, 'reg_lambda': 47.93423357327366, 'random_strength': 74.44216601435507, 'min_data_in_leaf': 37, 'leaf_estimation_iterations': 11, 'bagging_temperature': 1.0236117976077848}. Best is trial 35 with value: 0.862985924464566.\n"
     ]
    },
    {
     "name": "stdout",
     "output_type": "stream",
     "text": [
      "0.7645965354540815\n"
     ]
    },
    {
     "name": "stderr",
     "output_type": "stream",
     "text": [
      "[I 2024-02-09 20:23:25,109] Trial 41 finished with value: 0.8614664906973519 and parameters: {'iterations': 20272, 'learning_rate': 0.3538391003508076, 'reg_lambda': 23.273250954491953, 'random_strength': 41.26807888453963, 'min_data_in_leaf': 11, 'leaf_estimation_iterations': 10, 'bagging_temperature': 0.16142552478579605}. Best is trial 35 with value: 0.862985924464566.\n"
     ]
    },
    {
     "name": "stdout",
     "output_type": "stream",
     "text": [
      "0.7753139337756563\n"
     ]
    },
    {
     "name": "stderr",
     "output_type": "stream",
     "text": [
      "[I 2024-02-09 20:23:44,532] Trial 42 finished with value: 0.85759537392381 and parameters: {'iterations': 16413, 'learning_rate': 0.344859338356785, 'reg_lambda': 20.55707290331424, 'random_strength': 41.63929057637241, 'min_data_in_leaf': 14, 'leaf_estimation_iterations': 8, 'bagging_temperature': 0.1844871514574807}. Best is trial 35 with value: 0.862985924464566.\n"
     ]
    },
    {
     "name": "stdout",
     "output_type": "stream",
     "text": [
      "0.7680046006614729\n"
     ]
    },
    {
     "name": "stderr",
     "output_type": "stream",
     "text": [
      "[I 2024-02-09 20:24:01,257] Trial 43 finished with value: 0.8585196577107599 and parameters: {'iterations': 18870, 'learning_rate': 0.45773950257679996, 'reg_lambda': 35.59731168027913, 'random_strength': 28.886123420767916, 'min_data_in_leaf': 10, 'leaf_estimation_iterations': 10, 'bagging_temperature': 0.7287609914042035}. Best is trial 35 with value: 0.862985924464566.\n"
     ]
    },
    {
     "name": "stdout",
     "output_type": "stream",
     "text": [
      "0.7663899647721688\n"
     ]
    },
    {
     "name": "stderr",
     "output_type": "stream",
     "text": [
      "[I 2024-02-09 20:24:20,126] Trial 44 finished with value: 0.8536116516363581 and parameters: {'iterations': 11721, 'learning_rate': 0.26879837523151173, 'reg_lambda': 12.584398559932403, 'random_strength': 53.60006286487692, 'min_data_in_leaf': 1, 'leaf_estimation_iterations': 6, 'bagging_temperature': 1.386939167663728}. Best is trial 35 with value: 0.862985924464566.\n"
     ]
    },
    {
     "name": "stdout",
     "output_type": "stream",
     "text": [
      "0.7565739526233656\n"
     ]
    },
    {
     "name": "stderr",
     "output_type": "stream",
     "text": [
      "[I 2024-02-09 20:24:38,727] Trial 45 finished with value: 0.8623570013933675 and parameters: {'iterations': 21266, 'learning_rate': 0.5269939686335476, 'reg_lambda': 26.90925784662547, 'random_strength': 61.73017747857475, 'min_data_in_leaf': 33, 'leaf_estimation_iterations': 8, 'bagging_temperature': 0.04451691629119939}. Best is trial 35 with value: 0.862985924464566.\n"
     ]
    },
    {
     "name": "stdout",
     "output_type": "stream",
     "text": [
      "0.7740646521373844\n"
     ]
    },
    {
     "name": "stderr",
     "output_type": "stream",
     "text": [
      "[I 2024-02-09 20:24:54,514] Trial 46 finished with value: 0.8527708499071999 and parameters: {'iterations': 21085, 'learning_rate': 0.5238272044738559, 'reg_lambda': 26.930595506388098, 'random_strength': 62.25528295975516, 'min_data_in_leaf': 43, 'leaf_estimation_iterations': 9, 'bagging_temperature': 0.03610903718661834}. Best is trial 35 with value: 0.862985924464566.\n"
     ]
    },
    {
     "name": "stdout",
     "output_type": "stream",
     "text": [
      "0.7548923491650492\n"
     ]
    },
    {
     "name": "stderr",
     "output_type": "stream",
     "text": [
      "[I 2024-02-09 20:25:12,215] Trial 47 finished with value: 0.8562890873513178 and parameters: {'iterations': 17379, 'learning_rate': 0.5811804894478956, 'reg_lambda': 8.812002941997777, 'random_strength': 70.60159486767954, 'min_data_in_leaf': 32, 'leaf_estimation_iterations': 11, 'bagging_temperature': 0.05023144915257159}. Best is trial 35 with value: 0.862985924464566.\n"
     ]
    },
    {
     "name": "stdout",
     "output_type": "stream",
     "text": [
      "0.7712361833606443\n"
     ]
    },
    {
     "name": "stderr",
     "output_type": "stream",
     "text": [
      "[I 2024-02-09 20:25:30,689] Trial 48 finished with value: 0.8591121780757197 and parameters: {'iterations': 24021, 'learning_rate': 0.46013482246307535, 'reg_lambda': 23.055391853202273, 'random_strength': 17.763982518929325, 'min_data_in_leaf': 28, 'leaf_estimation_iterations': 12, 'bagging_temperature': 0.12033244510974285}. Best is trial 35 with value: 0.862985924464566.\n"
     ]
    },
    {
     "name": "stdout",
     "output_type": "stream",
     "text": [
      "0.7693066072336904\n"
     ]
    },
    {
     "name": "stderr",
     "output_type": "stream",
     "text": [
      "[I 2024-02-09 20:25:59,517] Trial 49 finished with value: 0.860405929607342 and parameters: {'iterations': 25080, 'learning_rate': 0.1522609515418942, 'reg_lambda': 35.42960331841661, 'random_strength': 65.90966154153865, 'min_data_in_leaf': 34, 'leaf_estimation_iterations': 10, 'bagging_temperature': 0.06293473934812792}. Best is trial 35 with value: 0.862985924464566.\n"
     ]
    },
    {
     "name": "stdout",
     "output_type": "stream",
     "text": [
      "0.7664828548856795\n"
     ]
    },
    {
     "name": "stderr",
     "output_type": "stream",
     "text": [
      "[I 2024-02-09 20:26:18,661] Trial 50 finished with value: 0.8590103841488546 and parameters: {'iterations': 23098, 'learning_rate': 0.3662625411363723, 'reg_lambda': 42.01965555297191, 'random_strength': 58.34271487967298, 'min_data_in_leaf': 42, 'leaf_estimation_iterations': 8, 'bagging_temperature': 0.030426513189178425}. Best is trial 35 with value: 0.862985924464566.\n"
     ]
    },
    {
     "name": "stdout",
     "output_type": "stream",
     "text": [
      "0.7662891665661075\n"
     ]
    },
    {
     "name": "stderr",
     "output_type": "stream",
     "text": [
      "[I 2024-02-09 20:26:40,545] Trial 51 finished with value: 0.8568640841715078 and parameters: {'iterations': 19469, 'learning_rate': 0.2907195098411242, 'reg_lambda': 27.43927396844689, 'random_strength': 45.975640964173316, 'min_data_in_leaf': 19, 'leaf_estimation_iterations': 1, 'bagging_temperature': 0.39539467462995187}. Best is trial 35 with value: 0.862985924464566.\n"
     ]
    },
    {
     "name": "stdout",
     "output_type": "stream",
     "text": [
      "0.7604814150962622\n"
     ]
    },
    {
     "name": "stderr",
     "output_type": "stream",
     "text": [
      "[I 2024-02-09 20:26:58,882] Trial 52 finished with value: 0.8572177339913594 and parameters: {'iterations': 13804, 'learning_rate': 0.3660716218691805, 'reg_lambda': 58.86485724971743, 'random_strength': 35.645443541670716, 'min_data_in_leaf': 12, 'leaf_estimation_iterations': 8, 'bagging_temperature': 0.13001898944081303}. Best is trial 35 with value: 0.862985924464566.\n"
     ]
    },
    {
     "name": "stdout",
     "output_type": "stream",
     "text": [
      "0.7620545156017666\n"
     ]
    },
    {
     "name": "stderr",
     "output_type": "stream",
     "text": [
      "[I 2024-02-09 20:27:15,134] Trial 53 finished with value: 0.8581383411981784 and parameters: {'iterations': 20428, 'learning_rate': 0.4996153698350019, 'reg_lambda': 16.07401774322156, 'random_strength': 53.36728013642694, 'min_data_in_leaf': 5, 'leaf_estimation_iterations': 9, 'bagging_temperature': 0.22283485714915863}. Best is trial 35 with value: 0.862985924464566.\n"
     ]
    },
    {
     "name": "stdout",
     "output_type": "stream",
     "text": [
      "0.7680082841279587\n"
     ]
    },
    {
     "name": "stderr",
     "output_type": "stream",
     "text": [
      "[I 2024-02-09 20:27:35,098] Trial 54 finished with value: 0.860680913353624 and parameters: {'iterations': 15714, 'learning_rate': 0.4407860317590249, 'reg_lambda': 50.42299512291467, 'random_strength': 43.5777506055985, 'min_data_in_leaf': 21, 'leaf_estimation_iterations': 6, 'bagging_temperature': 0.02451447261293839}. Best is trial 35 with value: 0.862985924464566.\n"
     ]
    },
    {
     "name": "stdout",
     "output_type": "stream",
     "text": [
      "0.7715782769236983\n"
     ]
    },
    {
     "name": "stderr",
     "output_type": "stream",
     "text": [
      "[I 2024-02-09 20:27:51,756] Trial 55 finished with value: 0.8569225576778823 and parameters: {'iterations': 15652, 'learning_rate': 0.4437185498730993, 'reg_lambda': 40.836777644470274, 'random_strength': 47.65878034849707, 'min_data_in_leaf': 20, 'leaf_estimation_iterations': 4, 'bagging_temperature': 0.010708833859809959}. Best is trial 35 with value: 0.862985924464566.\n"
     ]
    },
    {
     "name": "stdout",
     "output_type": "stream",
     "text": [
      "0.7627628642735134\n"
     ]
    },
    {
     "name": "stderr",
     "output_type": "stream",
     "text": [
      "[I 2024-02-09 20:28:06,418] Trial 56 finished with value: 0.8543242309129695 and parameters: {'iterations': 18072, 'learning_rate': 0.6649469654182639, 'reg_lambda': 66.5887446585982, 'random_strength': 8.32158216415026, 'min_data_in_leaf': 50, 'leaf_estimation_iterations': 6, 'bagging_temperature': 0.019084665743215014}. Best is trial 35 with value: 0.862985924464566.\n"
     ]
    },
    {
     "name": "stdout",
     "output_type": "stream",
     "text": [
      "0.7586484618259394\n"
     ]
    },
    {
     "name": "stderr",
     "output_type": "stream",
     "text": [
      "[I 2024-02-09 20:28:23,092] Trial 57 finished with value: 0.8574029079731158 and parameters: {'iterations': 22690, 'learning_rate': 0.5880499608746421, 'reg_lambda': 29.626869898836475, 'random_strength': 31.11477333955857, 'min_data_in_leaf': 23, 'leaf_estimation_iterations': 13, 'bagging_temperature': 0.025439405145143503}. Best is trial 35 with value: 0.862985924464566.\n"
     ]
    },
    {
     "name": "stdout",
     "output_type": "stream",
     "text": [
      "0.7678361189765348\n"
     ]
    },
    {
     "name": "stderr",
     "output_type": "stream",
     "text": [
      "[I 2024-02-09 20:28:42,170] Trial 58 finished with value: 0.8602095160382671 and parameters: {'iterations': 16488, 'learning_rate': 0.5043402727017352, 'reg_lambda': 33.64535995504595, 'random_strength': 25.860878536240225, 'min_data_in_leaf': 27, 'leaf_estimation_iterations': 10, 'bagging_temperature': 0.09220154060246546}. Best is trial 35 with value: 0.862985924464566.\n"
     ]
    },
    {
     "name": "stdout",
     "output_type": "stream",
     "text": [
      "0.7740986857561877\n"
     ]
    },
    {
     "name": "stderr",
     "output_type": "stream",
     "text": [
      "[I 2024-02-09 20:28:55,144] Trial 59 finished with value: 0.854068673626452 and parameters: {'iterations': 14750, 'learning_rate': 0.7408783312779217, 'reg_lambda': 44.00533010358064, 'random_strength': 37.96556036995348, 'min_data_in_leaf': 31, 'leaf_estimation_iterations': 4, 'bagging_temperature': 0.015692408103054514}. Best is trial 35 with value: 0.862985924464566.\n"
     ]
    },
    {
     "name": "stdout",
     "output_type": "stream",
     "text": [
      "0.758786697902255\n"
     ]
    },
    {
     "name": "stderr",
     "output_type": "stream",
     "text": [
      "[I 2024-02-09 20:29:12,915] Trial 60 finished with value: 0.8591871305790505 and parameters: {'iterations': 21090, 'learning_rate': 0.433614309630765, 'reg_lambda': 12.439855602864547, 'random_strength': 84.32731747622645, 'min_data_in_leaf': 49, 'leaf_estimation_iterations': 9, 'bagging_temperature': 0.0543472804427078}. Best is trial 35 with value: 0.862985924464566.\n"
     ]
    },
    {
     "name": "stdout",
     "output_type": "stream",
     "text": [
      "0.7696729624568022\n"
     ]
    },
    {
     "name": "stderr",
     "output_type": "stream",
     "text": [
      "[I 2024-02-09 20:29:30,358] Trial 61 finished with value: 0.8596463460775802 and parameters: {'iterations': 18891, 'learning_rate': 0.38930314376870856, 'reg_lambda': 51.06927518798116, 'random_strength': 43.02422634185348, 'min_data_in_leaf': 17, 'leaf_estimation_iterations': 7, 'bagging_temperature': 0.41987353531178145}. Best is trial 35 with value: 0.862985924464566.\n"
     ]
    },
    {
     "name": "stdout",
     "output_type": "stream",
     "text": [
      "0.7666952895577578\n"
     ]
    },
    {
     "name": "stderr",
     "output_type": "stream",
     "text": [
      "[I 2024-02-09 20:29:44,467] Trial 62 finished with value: 0.8486052562335201 and parameters: {'iterations': 12674, 'learning_rate': 0.89276738285607, 'reg_lambda': 54.157985219101946, 'random_strength': 33.573410464338636, 'min_data_in_leaf': 6, 'leaf_estimation_iterations': 5, 'bagging_temperature': 0.2737866580046779}. Best is trial 35 with value: 0.862985924464566.\n"
     ]
    },
    {
     "name": "stdout",
     "output_type": "stream",
     "text": [
      "0.7543533696098974\n"
     ]
    },
    {
     "name": "stderr",
     "output_type": "stream",
     "text": [
      "[I 2024-02-09 20:30:05,505] Trial 63 finished with value: 0.847606321532931 and parameters: {'iterations': 10640, 'learning_rate': 0.3084502437283149, 'reg_lambda': 48.35969145453379, 'random_strength': 38.33538949833374, 'min_data_in_leaf': 12, 'leaf_estimation_iterations': 8, 'bagging_temperature': 2.2776507128002335}. Best is trial 35 with value: 0.862985924464566.\n"
     ]
    },
    {
     "name": "stdout",
     "output_type": "stream",
     "text": [
      "0.7482429460961652\n"
     ]
    },
    {
     "name": "stderr",
     "output_type": "stream",
     "text": [
      "[I 2024-02-09 20:30:28,800] Trial 64 finished with value: 0.8612514936021327 and parameters: {'iterations': 15597, 'learning_rate': 0.2576673244576107, 'reg_lambda': 38.36683143951106, 'random_strength': 51.07044673476288, 'min_data_in_leaf': 22, 'leaf_estimation_iterations': 7, 'bagging_temperature': 0.014336041525841055}. Best is trial 35 with value: 0.862985924464566.\n"
     ]
    },
    {
     "name": "stdout",
     "output_type": "stream",
     "text": [
      "0.7692562339575124\n"
     ]
    },
    {
     "name": "stderr",
     "output_type": "stream",
     "text": [
      "[I 2024-02-09 20:30:52,999] Trial 65 finished with value: 0.8602098214994254 and parameters: {'iterations': 17452, 'learning_rate': 0.23908013620250632, 'reg_lambda': 22.79022809728009, 'random_strength': 61.60522183654843, 'min_data_in_leaf': 22, 'leaf_estimation_iterations': 11, 'bagging_temperature': 0.01674485270576314}. Best is trial 35 with value: 0.862985924464566.\n"
     ]
    },
    {
     "name": "stdout",
     "output_type": "stream",
     "text": [
      "0.7669564395356471\n"
     ]
    },
    {
     "name": "stderr",
     "output_type": "stream",
     "text": [
      "[I 2024-02-09 20:31:14,580] Trial 66 finished with value: 0.8611889362291565 and parameters: {'iterations': 15321, 'learning_rate': 0.26280013219213993, 'reg_lambda': 19.86234398966829, 'random_strength': 54.993557062527955, 'min_data_in_leaf': 40, 'leaf_estimation_iterations': 7, 'bagging_temperature': 0.013366105567466492}. Best is trial 35 with value: 0.862985924464566.\n"
     ]
    },
    {
     "name": "stdout",
     "output_type": "stream",
     "text": [
      "0.7689146689951097\n"
     ]
    },
    {
     "name": "stderr",
     "output_type": "stream",
     "text": [
      "[I 2024-02-09 20:31:35,803] Trial 67 finished with value: 0.8620248932359147 and parameters: {'iterations': 14307, 'learning_rate': 0.26492231480487133, 'reg_lambda': 18.87507079445405, 'random_strength': 55.461470903066335, 'min_data_in_leaf': 39, 'leaf_estimation_iterations': 7, 'bagging_temperature': 0.014276611143527823}. Best is trial 35 with value: 0.862985924464566.\n"
     ]
    },
    {
     "name": "stdout",
     "output_type": "stream",
     "text": [
      "0.7699372323592751\n"
     ]
    },
    {
     "name": "stderr",
     "output_type": "stream",
     "text": [
      "[I 2024-02-09 20:32:14,297] Trial 68 finished with value: 0.8594308861938611 and parameters: {'iterations': 14179, 'learning_rate': 0.0890589467527047, 'reg_lambda': 8.358840076536943, 'random_strength': 55.78149891074847, 'min_data_in_leaf': 39, 'leaf_estimation_iterations': 7, 'bagging_temperature': 0.01140814110619721}. Best is trial 35 with value: 0.862985924464566.\n"
     ]
    },
    {
     "name": "stdout",
     "output_type": "stream",
     "text": [
      "0.7673466208725704\n"
     ]
    },
    {
     "name": "stderr",
     "output_type": "stream",
     "text": [
      "[I 2024-02-09 20:32:39,256] Trial 69 finished with value: 0.8600160430422221 and parameters: {'iterations': 12365, 'learning_rate': 0.18784502725394284, 'reg_lambda': 19.904815597420235, 'random_strength': 66.40699038320203, 'min_data_in_leaf': 46, 'leaf_estimation_iterations': 9, 'bagging_temperature': 0.01327277592814075}. Best is trial 35 with value: 0.862985924464566.\n"
     ]
    },
    {
     "name": "stdout",
     "output_type": "stream",
     "text": [
      "0.7674346834870417\n"
     ]
    },
    {
     "name": "stderr",
     "output_type": "stream",
     "text": [
      "[I 2024-02-09 20:33:02,657] Trial 70 finished with value: 0.8620604032328197 and parameters: {'iterations': 15192, 'learning_rate': 0.2662094295402595, 'reg_lambda': 38.38894838929184, 'random_strength': 51.18626995663521, 'min_data_in_leaf': 58, 'leaf_estimation_iterations': 5, 'bagging_temperature': 0.027468091359879356}. Best is trial 35 with value: 0.862985924464566.\n"
     ]
    },
    {
     "name": "stdout",
     "output_type": "stream",
     "text": [
      "0.7700082523530856\n"
     ]
    },
    {
     "name": "stderr",
     "output_type": "stream",
     "text": [
      "[I 2024-02-09 20:33:22,998] Trial 71 finished with value: 0.8581954934784889 and parameters: {'iterations': 13329, 'learning_rate': 0.26314682383717114, 'reg_lambda': 37.791628262788834, 'random_strength': 51.64832425625952, 'min_data_in_leaf': 56, 'leaf_estimation_iterations': 3, 'bagging_temperature': 0.036288762773904505}. Best is trial 35 with value: 0.862985924464566.\n"
     ]
    },
    {
     "name": "stdout",
     "output_type": "stream",
     "text": [
      "0.761412631978623\n"
     ]
    },
    {
     "name": "stderr",
     "output_type": "stream",
     "text": [
      "[I 2024-02-09 20:33:44,461] Trial 72 finished with value: 0.8605119255556273 and parameters: {'iterations': 15806, 'learning_rate': 0.21255157849214817, 'reg_lambda': 13.188606862632678, 'random_strength': 58.693453461226184, 'min_data_in_leaf': 59, 'leaf_estimation_iterations': 5, 'bagging_temperature': 0.02025639402295772}. Best is trial 35 with value: 0.862985924464566.\n"
     ]
    },
    {
     "name": "stdout",
     "output_type": "stream",
     "text": [
      "0.7664783965658002\n"
     ]
    },
    {
     "name": "stderr",
     "output_type": "stream",
     "text": [
      "[I 2024-02-09 20:34:02,422] Trial 73 finished with value: 0.8570582438767478 and parameters: {'iterations': 14924, 'learning_rate': 0.3155279820971013, 'reg_lambda': 28.973110431864345, 'random_strength': 55.172258540540426, 'min_data_in_leaf': 41, 'leaf_estimation_iterations': 7, 'bagging_temperature': 0.026689581085659372}. Best is trial 35 with value: 0.862985924464566.\n"
     ]
    },
    {
     "name": "stdout",
     "output_type": "stream",
     "text": [
      "0.7639000375370453\n"
     ]
    },
    {
     "name": "stderr",
     "output_type": "stream",
     "text": [
      "[I 2024-02-09 20:34:32,544] Trial 74 finished with value: 0.8609158072580133 and parameters: {'iterations': 16923, 'learning_rate': 0.15556436110700206, 'reg_lambda': 31.912812805800208, 'random_strength': 65.49923161398152, 'min_data_in_leaf': 34, 'leaf_estimation_iterations': 6, 'bagging_temperature': 0.013623093715463728}. Best is trial 35 with value: 0.862985924464566.\n"
     ]
    },
    {
     "name": "stdout",
     "output_type": "stream",
     "text": [
      "0.7696671123515242\n"
     ]
    },
    {
     "name": "stderr",
     "output_type": "stream",
     "text": [
      "[I 2024-02-09 20:34:54,399] Trial 75 finished with value: 0.8620302431301268 and parameters: {'iterations': 14800, 'learning_rate': 0.2612233908125441, 'reg_lambda': 25.049705766287204, 'random_strength': 50.10826289968975, 'min_data_in_leaf': 69, 'leaf_estimation_iterations': 8, 'bagging_temperature': 0.04466177786143779}. Best is trial 35 with value: 0.862985924464566.\n"
     ]
    },
    {
     "name": "stdout",
     "output_type": "stream",
     "text": [
      "0.7716795338793011\n"
     ]
    },
    {
     "name": "stderr",
     "output_type": "stream",
     "text": [
      "[I 2024-02-09 20:35:16,806] Trial 76 finished with value: 0.856717258047704 and parameters: {'iterations': 13489, 'learning_rate': 0.21503924606630423, 'reg_lambda': 23.445572407905996, 'random_strength': 49.69240830002623, 'min_data_in_leaf': 70, 'leaf_estimation_iterations': 8, 'bagging_temperature': 0.08983546114016776}. Best is trial 35 with value: 0.862985924464566.\n"
     ]
    },
    {
     "name": "stdout",
     "output_type": "stream",
     "text": [
      "0.7621358147967066\n"
     ]
    },
    {
     "name": "stderr",
     "output_type": "stream",
     "text": [
      "[I 2024-02-09 20:35:34,871] Trial 77 finished with value: 0.8584477909643244 and parameters: {'iterations': 1642, 'learning_rate': 0.3018304016113352, 'reg_lambda': 5.324907374699791, 'random_strength': 50.93252216763998, 'min_data_in_leaf': 64, 'leaf_estimation_iterations': 9, 'bagging_temperature': 0.046983953418722434}. Best is trial 35 with value: 0.862985924464566.\n"
     ]
    },
    {
     "name": "stdout",
     "output_type": "stream",
     "text": [
      "0.765380430413497\n"
     ]
    },
    {
     "name": "stderr",
     "output_type": "stream",
     "text": [
      "[I 2024-02-09 20:36:06,589] Trial 78 finished with value: 0.7989757029086917 and parameters: {'iterations': 12262, 'learning_rate': 0.2490237688563571, 'reg_lambda': 25.612880444735914, 'random_strength': 48.01181837277772, 'min_data_in_leaf': 76, 'leaf_estimation_iterations': 10, 'bagging_temperature': 36.903808492251905}. Best is trial 35 with value: 0.862985924464566.\n"
     ]
    },
    {
     "name": "stdout",
     "output_type": "stream",
     "text": [
      "0.6869124447784222\n"
     ]
    },
    {
     "name": "stderr",
     "output_type": "stream",
     "text": [
      "[I 2024-02-09 20:36:27,310] Trial 79 finished with value: 0.8600718394072396 and parameters: {'iterations': 14339, 'learning_rate': 0.3417663162126884, 'reg_lambda': 15.30190979976235, 'random_strength': 61.01590712603782, 'min_data_in_leaf': 88, 'leaf_estimation_iterations': 9, 'bagging_temperature': 0.03210275750871188}. Best is trial 35 with value: 0.862985924464566.\n"
     ]
    },
    {
     "name": "stdout",
     "output_type": "stream",
     "text": [
      "0.7718752805460809\n"
     ]
    },
    {
     "name": "stderr",
     "output_type": "stream",
     "text": [
      "[I 2024-02-09 20:37:00,462] Trial 80 finished with value: 0.8587032514967374 and parameters: {'iterations': 19214, 'learning_rate': 0.129745203516137, 'reg_lambda': 38.775844051986454, 'random_strength': 44.90176196452251, 'min_data_in_leaf': 69, 'leaf_estimation_iterations': 11, 'bagging_temperature': 0.06790078625092985}. Best is trial 35 with value: 0.862985924464566.\n"
     ]
    },
    {
     "name": "stdout",
     "output_type": "stream",
     "text": [
      "0.7626445982315702\n"
     ]
    },
    {
     "name": "stderr",
     "output_type": "stream",
     "text": [
      "[I 2024-02-09 20:37:21,146] Trial 81 finished with value: 0.8582003670825278 and parameters: {'iterations': 15137, 'learning_rate': 0.2718468469174829, 'reg_lambda': 20.004126300844767, 'random_strength': 70.32264786376007, 'min_data_in_leaf': 39, 'leaf_estimation_iterations': 7, 'bagging_temperature': 0.04090284508708993}. Best is trial 35 with value: 0.862985924464566.\n"
     ]
    },
    {
     "name": "stdout",
     "output_type": "stream",
     "text": [
      "0.7655349332992547\n"
     ]
    },
    {
     "name": "stderr",
     "output_type": "stream",
     "text": [
      "[I 2024-02-09 20:37:46,467] Trial 82 finished with value: 0.8633239908159608 and parameters: {'iterations': 16309, 'learning_rate': 0.1836073479612207, 'reg_lambda': 21.070298923345558, 'random_strength': 54.45031286094743, 'min_data_in_leaf': 54, 'leaf_estimation_iterations': 8, 'bagging_temperature': 0.01953041958689756}. Best is trial 82 with value: 0.8633239908159608.\n"
     ]
    },
    {
     "name": "stdout",
     "output_type": "stream",
     "text": [
      "0.7723189773029173\n"
     ]
    },
    {
     "name": "stderr",
     "output_type": "stream",
     "text": [
      "[I 2024-02-09 20:38:10,590] Trial 83 finished with value: 0.8604304321198892 and parameters: {'iterations': 16266, 'learning_rate': 0.18438089537374858, 'reg_lambda': 26.688761020278875, 'random_strength': 59.40296134981549, 'min_data_in_leaf': 53, 'leaf_estimation_iterations': 8, 'bagging_temperature': 0.02231091674132315}. Best is trial 82 with value: 0.8633239908159608.\n"
     ]
    },
    {
     "name": "stdout",
     "output_type": "stream",
     "text": [
      "0.7656660590449734\n"
     ]
    },
    {
     "name": "stderr",
     "output_type": "stream",
     "text": [
      "[I 2024-02-09 20:38:40,752] Trial 84 finished with value: 0.8520784769852856 and parameters: {'iterations': 18070, 'learning_rate': 0.10034607132050932, 'reg_lambda': 34.46339743097741, 'random_strength': 64.42615693346795, 'min_data_in_leaf': 57, 'leaf_estimation_iterations': 8, 'bagging_temperature': 0.02997292080896787}. Best is trial 82 with value: 0.8633239908159608.\n"
     ]
    },
    {
     "name": "stdout",
     "output_type": "stream",
     "text": [
      "0.750260850074467\n"
     ]
    },
    {
     "name": "stderr",
     "output_type": "stream",
     "text": [
      "[I 2024-02-09 20:39:05,994] Trial 85 finished with value: 0.8623580571128766 and parameters: {'iterations': 20437, 'learning_rate': 0.21215086232471436, 'reg_lambda': 17.735914249173323, 'random_strength': 52.48146576006598, 'min_data_in_leaf': 47, 'leaf_estimation_iterations': 10, 'bagging_temperature': 0.0605630950698383}. Best is trial 82 with value: 0.8633239908159608.\n"
     ]
    },
    {
     "name": "stdout",
     "output_type": "stream",
     "text": [
      "0.7712529107625496\n"
     ]
    },
    {
     "name": "stderr",
     "output_type": "stream",
     "text": [
      "[I 2024-02-09 20:39:32,705] Trial 86 finished with value: 0.8637093131589051 and parameters: {'iterations': 22310, 'learning_rate': 0.22376222181434804, 'reg_lambda': 17.424186017889703, 'random_strength': 52.96265945629279, 'min_data_in_leaf': 46, 'leaf_estimation_iterations': 12, 'bagging_temperature': 0.14255108396254845}. Best is trial 86 with value: 0.8637093131589051.\n"
     ]
    },
    {
     "name": "stdout",
     "output_type": "stream",
     "text": [
      "0.7761199250191089\n"
     ]
    },
    {
     "name": "stderr",
     "output_type": "stream",
     "text": [
      "[I 2024-02-09 20:40:26,814] Trial 87 finished with value: 0.8554633133377635 and parameters: {'iterations': 22170, 'learning_rate': 0.053205864294275956, 'reg_lambda': 17.83280978995042, 'random_strength': 57.12560680084533, 'min_data_in_leaf': 54, 'leaf_estimation_iterations': 14, 'bagging_temperature': 0.07680481105103304}. Best is trial 86 with value: 0.8637093131589051.\n"
     ]
    },
    {
     "name": "stdout",
     "output_type": "stream",
     "text": [
      "0.7561647219136223\n"
     ]
    },
    {
     "name": "stderr",
     "output_type": "stream",
     "text": [
      "[I 2024-02-09 20:40:56,751] Trial 88 finished with value: 0.8609651526826774 and parameters: {'iterations': 26225, 'learning_rate': 0.16130014158412329, 'reg_lambda': 10.708040291613532, 'random_strength': 97.75396710737769, 'min_data_in_leaf': 46, 'leaf_estimation_iterations': 12, 'bagging_temperature': 0.05919760906688468}. Best is trial 86 with value: 0.8637093131589051.\n"
     ]
    },
    {
     "name": "stdout",
     "output_type": "stream",
     "text": [
      "0.7695493529844024\n"
     ]
    },
    {
     "name": "stderr",
     "output_type": "stream",
     "text": [
      "[I 2024-02-09 20:41:21,458] Trial 89 finished with value: 0.8598474454959018 and parameters: {'iterations': 24711, 'learning_rate': 0.22387407229469092, 'reg_lambda': 14.333981052200846, 'random_strength': 53.37759974621574, 'min_data_in_leaf': 60, 'leaf_estimation_iterations': 9, 'bagging_temperature': 0.11229831152519691}. Best is trial 86 with value: 0.8637093131589051.\n"
     ]
    },
    {
     "name": "stdout",
     "output_type": "stream",
     "text": [
      "0.7709935922905047\n"
     ]
    },
    {
     "name": "stderr",
     "output_type": "stream",
     "text": [
      "[W 2024-02-09 20:41:45,052] Trial 90 failed with parameters: {'iterations': 23552, 'learning_rate': 0.2031668269560454, 'reg_lambda': 21.983132484771986, 'random_strength': 68.03200930975368, 'min_data_in_leaf': 49, 'leaf_estimation_iterations': 12, 'bagging_temperature': 0.14367885670820796} because of the following error: KeyboardInterrupt('').\n",
      "Traceback (most recent call last):\n",
      "  File \"/home/server4/anaconda3/envs/jy/lib/python3.11/site-packages/optuna/study/_optimize.py\", line 200, in _run_trial\n",
      "    value_or_values = func(trial)\n",
      "                      ^^^^^^^^^^^\n",
      "  File \"/tmp/ipykernel_1128668/1622327470.py\", line 25, in objective\n",
      "    clf.fit(train_pool, eval_set=val_pool)\n",
      "  File \"/home/server4/anaconda3/envs/jy/lib/python3.11/site-packages/catboost/core.py\", line 5100, in fit\n",
      "    self._fit(X, y, cat_features, text_features, embedding_features, None, sample_weight, None, None, None, None, baseline, use_best_model,\n",
      "  File \"/home/server4/anaconda3/envs/jy/lib/python3.11/site-packages/catboost/core.py\", line 2319, in _fit\n",
      "    self._train(\n",
      "  File \"/home/server4/anaconda3/envs/jy/lib/python3.11/site-packages/catboost/core.py\", line 1723, in _train\n",
      "    self._object._train(train_pool, test_pool, params, allow_clear_pool, init_model._object if init_model else None)\n",
      "  File \"_catboost.pyx\", line 4645, in _catboost._CatBoost._train\n",
      "  File \"_catboost.pyx\", line 4694, in _catboost._CatBoost._train\n",
      "KeyboardInterrupt\n",
      "[W 2024-02-09 20:41:45,053] Trial 90 failed with value None.\n"
     ]
    },
    {
     "ename": "KeyboardInterrupt",
     "evalue": "",
     "output_type": "error",
     "traceback": [
      "\u001b[0;31m---------------------------------------------------------------------------\u001b[0m",
      "\u001b[0;31mKeyboardInterrupt\u001b[0m                         Traceback (most recent call last)",
      "Cell \u001b[0;32mIn[296], line 37\u001b[0m\n\u001b[1;32m     35\u001b[0m \u001b[38;5;66;03m# Hyperparameter Tuning\u001b[39;00m\n\u001b[1;32m     36\u001b[0m study \u001b[38;5;241m=\u001b[39m optuna\u001b[38;5;241m.\u001b[39mcreate_study(direction\u001b[38;5;241m=\u001b[39m\u001b[38;5;124m'\u001b[39m\u001b[38;5;124mmaximize\u001b[39m\u001b[38;5;124m'\u001b[39m, sampler\u001b[38;5;241m=\u001b[39mTPESampler(seed\u001b[38;5;241m=\u001b[39mseed), pruner\u001b[38;5;241m=\u001b[39mSuccessiveHalvingPruner())\n\u001b[0;32m---> 37\u001b[0m study\u001b[38;5;241m.\u001b[39moptimize(objective, n_trials\u001b[38;5;241m=\u001b[39m\u001b[38;5;28;01mNone\u001b[39;00m)\n",
      "File \u001b[0;32m~/anaconda3/envs/jy/lib/python3.11/site-packages/optuna/study/study.py:451\u001b[0m, in \u001b[0;36mStudy.optimize\u001b[0;34m(self, func, n_trials, timeout, n_jobs, catch, callbacks, gc_after_trial, show_progress_bar)\u001b[0m\n\u001b[1;32m    348\u001b[0m \u001b[38;5;28;01mdef\u001b[39;00m \u001b[38;5;21moptimize\u001b[39m(\n\u001b[1;32m    349\u001b[0m     \u001b[38;5;28mself\u001b[39m,\n\u001b[1;32m    350\u001b[0m     func: ObjectiveFuncType,\n\u001b[0;32m   (...)\u001b[0m\n\u001b[1;32m    357\u001b[0m     show_progress_bar: \u001b[38;5;28mbool\u001b[39m \u001b[38;5;241m=\u001b[39m \u001b[38;5;28;01mFalse\u001b[39;00m,\n\u001b[1;32m    358\u001b[0m ) \u001b[38;5;241m-\u001b[39m\u001b[38;5;241m>\u001b[39m \u001b[38;5;28;01mNone\u001b[39;00m:\n\u001b[1;32m    359\u001b[0m \u001b[38;5;250m    \u001b[39m\u001b[38;5;124;03m\"\"\"Optimize an objective function.\u001b[39;00m\n\u001b[1;32m    360\u001b[0m \n\u001b[1;32m    361\u001b[0m \u001b[38;5;124;03m    Optimization is done by choosing a suitable set of hyperparameter values from a given\u001b[39;00m\n\u001b[0;32m   (...)\u001b[0m\n\u001b[1;32m    449\u001b[0m \u001b[38;5;124;03m            If nested invocation of this method occurs.\u001b[39;00m\n\u001b[1;32m    450\u001b[0m \u001b[38;5;124;03m    \"\"\"\u001b[39;00m\n\u001b[0;32m--> 451\u001b[0m     _optimize(\n\u001b[1;32m    452\u001b[0m         study\u001b[38;5;241m=\u001b[39m\u001b[38;5;28mself\u001b[39m,\n\u001b[1;32m    453\u001b[0m         func\u001b[38;5;241m=\u001b[39mfunc,\n\u001b[1;32m    454\u001b[0m         n_trials\u001b[38;5;241m=\u001b[39mn_trials,\n\u001b[1;32m    455\u001b[0m         timeout\u001b[38;5;241m=\u001b[39mtimeout,\n\u001b[1;32m    456\u001b[0m         n_jobs\u001b[38;5;241m=\u001b[39mn_jobs,\n\u001b[1;32m    457\u001b[0m         catch\u001b[38;5;241m=\u001b[39m\u001b[38;5;28mtuple\u001b[39m(catch) \u001b[38;5;28;01mif\u001b[39;00m \u001b[38;5;28misinstance\u001b[39m(catch, Iterable) \u001b[38;5;28;01melse\u001b[39;00m (catch,),\n\u001b[1;32m    458\u001b[0m         callbacks\u001b[38;5;241m=\u001b[39mcallbacks,\n\u001b[1;32m    459\u001b[0m         gc_after_trial\u001b[38;5;241m=\u001b[39mgc_after_trial,\n\u001b[1;32m    460\u001b[0m         show_progress_bar\u001b[38;5;241m=\u001b[39mshow_progress_bar,\n\u001b[1;32m    461\u001b[0m     )\n",
      "File \u001b[0;32m~/anaconda3/envs/jy/lib/python3.11/site-packages/optuna/study/_optimize.py:66\u001b[0m, in \u001b[0;36m_optimize\u001b[0;34m(study, func, n_trials, timeout, n_jobs, catch, callbacks, gc_after_trial, show_progress_bar)\u001b[0m\n\u001b[1;32m     64\u001b[0m \u001b[38;5;28;01mtry\u001b[39;00m:\n\u001b[1;32m     65\u001b[0m     \u001b[38;5;28;01mif\u001b[39;00m n_jobs \u001b[38;5;241m==\u001b[39m \u001b[38;5;241m1\u001b[39m:\n\u001b[0;32m---> 66\u001b[0m         _optimize_sequential(\n\u001b[1;32m     67\u001b[0m             study,\n\u001b[1;32m     68\u001b[0m             func,\n\u001b[1;32m     69\u001b[0m             n_trials,\n\u001b[1;32m     70\u001b[0m             timeout,\n\u001b[1;32m     71\u001b[0m             catch,\n\u001b[1;32m     72\u001b[0m             callbacks,\n\u001b[1;32m     73\u001b[0m             gc_after_trial,\n\u001b[1;32m     74\u001b[0m             reseed_sampler_rng\u001b[38;5;241m=\u001b[39m\u001b[38;5;28;01mFalse\u001b[39;00m,\n\u001b[1;32m     75\u001b[0m             time_start\u001b[38;5;241m=\u001b[39m\u001b[38;5;28;01mNone\u001b[39;00m,\n\u001b[1;32m     76\u001b[0m             progress_bar\u001b[38;5;241m=\u001b[39mprogress_bar,\n\u001b[1;32m     77\u001b[0m         )\n\u001b[1;32m     78\u001b[0m     \u001b[38;5;28;01melse\u001b[39;00m:\n\u001b[1;32m     79\u001b[0m         \u001b[38;5;28;01mif\u001b[39;00m n_jobs \u001b[38;5;241m==\u001b[39m \u001b[38;5;241m-\u001b[39m\u001b[38;5;241m1\u001b[39m:\n",
      "File \u001b[0;32m~/anaconda3/envs/jy/lib/python3.11/site-packages/optuna/study/_optimize.py:163\u001b[0m, in \u001b[0;36m_optimize_sequential\u001b[0;34m(study, func, n_trials, timeout, catch, callbacks, gc_after_trial, reseed_sampler_rng, time_start, progress_bar)\u001b[0m\n\u001b[1;32m    160\u001b[0m         \u001b[38;5;28;01mbreak\u001b[39;00m\n\u001b[1;32m    162\u001b[0m \u001b[38;5;28;01mtry\u001b[39;00m:\n\u001b[0;32m--> 163\u001b[0m     frozen_trial \u001b[38;5;241m=\u001b[39m _run_trial(study, func, catch)\n\u001b[1;32m    164\u001b[0m \u001b[38;5;28;01mfinally\u001b[39;00m:\n\u001b[1;32m    165\u001b[0m     \u001b[38;5;66;03m# The following line mitigates memory problems that can be occurred in some\u001b[39;00m\n\u001b[1;32m    166\u001b[0m     \u001b[38;5;66;03m# environments (e.g., services that use computing containers such as GitHub Actions).\u001b[39;00m\n\u001b[1;32m    167\u001b[0m     \u001b[38;5;66;03m# Please refer to the following PR for further details:\u001b[39;00m\n\u001b[1;32m    168\u001b[0m     \u001b[38;5;66;03m# https://github.com/optuna/optuna/pull/325.\u001b[39;00m\n\u001b[1;32m    169\u001b[0m     \u001b[38;5;28;01mif\u001b[39;00m gc_after_trial:\n",
      "File \u001b[0;32m~/anaconda3/envs/jy/lib/python3.11/site-packages/optuna/study/_optimize.py:251\u001b[0m, in \u001b[0;36m_run_trial\u001b[0;34m(study, func, catch)\u001b[0m\n\u001b[1;32m    244\u001b[0m         \u001b[38;5;28;01massert\u001b[39;00m \u001b[38;5;28;01mFalse\u001b[39;00m, \u001b[38;5;124m\"\u001b[39m\u001b[38;5;124mShould not reach.\u001b[39m\u001b[38;5;124m\"\u001b[39m\n\u001b[1;32m    246\u001b[0m \u001b[38;5;28;01mif\u001b[39;00m (\n\u001b[1;32m    247\u001b[0m     frozen_trial\u001b[38;5;241m.\u001b[39mstate \u001b[38;5;241m==\u001b[39m TrialState\u001b[38;5;241m.\u001b[39mFAIL\n\u001b[1;32m    248\u001b[0m     \u001b[38;5;129;01mand\u001b[39;00m func_err \u001b[38;5;129;01mis\u001b[39;00m \u001b[38;5;129;01mnot\u001b[39;00m \u001b[38;5;28;01mNone\u001b[39;00m\n\u001b[1;32m    249\u001b[0m     \u001b[38;5;129;01mand\u001b[39;00m \u001b[38;5;129;01mnot\u001b[39;00m \u001b[38;5;28misinstance\u001b[39m(func_err, catch)\n\u001b[1;32m    250\u001b[0m ):\n\u001b[0;32m--> 251\u001b[0m     \u001b[38;5;28;01mraise\u001b[39;00m func_err\n\u001b[1;32m    252\u001b[0m \u001b[38;5;28;01mreturn\u001b[39;00m frozen_trial\n",
      "File \u001b[0;32m~/anaconda3/envs/jy/lib/python3.11/site-packages/optuna/study/_optimize.py:200\u001b[0m, in \u001b[0;36m_run_trial\u001b[0;34m(study, func, catch)\u001b[0m\n\u001b[1;32m    198\u001b[0m \u001b[38;5;28;01mwith\u001b[39;00m get_heartbeat_thread(trial\u001b[38;5;241m.\u001b[39m_trial_id, study\u001b[38;5;241m.\u001b[39m_storage):\n\u001b[1;32m    199\u001b[0m     \u001b[38;5;28;01mtry\u001b[39;00m:\n\u001b[0;32m--> 200\u001b[0m         value_or_values \u001b[38;5;241m=\u001b[39m func(trial)\n\u001b[1;32m    201\u001b[0m     \u001b[38;5;28;01mexcept\u001b[39;00m exceptions\u001b[38;5;241m.\u001b[39mTrialPruned \u001b[38;5;28;01mas\u001b[39;00m e:\n\u001b[1;32m    202\u001b[0m         \u001b[38;5;66;03m# TODO(mamu): Handle multi-objective cases.\u001b[39;00m\n\u001b[1;32m    203\u001b[0m         state \u001b[38;5;241m=\u001b[39m TrialState\u001b[38;5;241m.\u001b[39mPRUNED\n",
      "Cell \u001b[0;32mIn[296], line 25\u001b[0m, in \u001b[0;36mobjective\u001b[0;34m(trial)\u001b[0m\n\u001b[1;32m     16\u001b[0m \u001b[38;5;28;01mfor\u001b[39;00m train_pool, val_pool, y_true \u001b[38;5;129;01min\u001b[39;00m \u001b[38;5;28mzip\u001b[39m(all_train_pool, all_val_pool, all_y_val):\n\u001b[1;32m     17\u001b[0m     clf \u001b[38;5;241m=\u001b[39m CatBoostClassifier(\u001b[38;5;241m*\u001b[39m\u001b[38;5;241m*\u001b[39mparams,\n\u001b[1;32m     18\u001b[0m                              scale_pos_weight\u001b[38;5;241m=\u001b[39mrate, \n\u001b[1;32m     19\u001b[0m                              loss_function\u001b[38;5;241m=\u001b[39m\u001b[38;5;124m'\u001b[39m\u001b[38;5;124mLogloss\u001b[39m\u001b[38;5;124m'\u001b[39m,\n\u001b[0;32m   (...)\u001b[0m\n\u001b[1;32m     23\u001b[0m                             early_stopping_rounds\u001b[38;5;241m=\u001b[39m\u001b[38;5;241m50\u001b[39m, \n\u001b[1;32m     24\u001b[0m                             )\n\u001b[0;32m---> 25\u001b[0m     clf\u001b[38;5;241m.\u001b[39mfit(train_pool, eval_set\u001b[38;5;241m=\u001b[39mval_pool)\n\u001b[1;32m     27\u001b[0m     y_pred \u001b[38;5;241m=\u001b[39m clf\u001b[38;5;241m.\u001b[39mpredict(val_pool)\n\u001b[1;32m     28\u001b[0m     y_pred \u001b[38;5;241m=\u001b[39m [\u001b[38;5;28;01mFalse\u001b[39;00m \u001b[38;5;28;01mif\u001b[39;00m i\u001b[38;5;241m==\u001b[39m\u001b[38;5;124m'\u001b[39m\u001b[38;5;124mFalse\u001b[39m\u001b[38;5;124m'\u001b[39m \u001b[38;5;28;01melse\u001b[39;00m \u001b[38;5;28;01mTrue\u001b[39;00m \u001b[38;5;28;01mfor\u001b[39;00m i \u001b[38;5;129;01min\u001b[39;00m y_pred]\n",
      "File \u001b[0;32m~/anaconda3/envs/jy/lib/python3.11/site-packages/catboost/core.py:5100\u001b[0m, in \u001b[0;36mCatBoostClassifier.fit\u001b[0;34m(self, X, y, cat_features, text_features, embedding_features, sample_weight, baseline, use_best_model, eval_set, verbose, logging_level, plot, plot_file, column_description, verbose_eval, metric_period, silent, early_stopping_rounds, save_snapshot, snapshot_file, snapshot_interval, init_model, callbacks, log_cout, log_cerr)\u001b[0m\n\u001b[1;32m   5097\u001b[0m \u001b[38;5;28;01mif\u001b[39;00m \u001b[38;5;124m'\u001b[39m\u001b[38;5;124mloss_function\u001b[39m\u001b[38;5;124m'\u001b[39m \u001b[38;5;129;01min\u001b[39;00m params:\n\u001b[1;32m   5098\u001b[0m     CatBoostClassifier\u001b[38;5;241m.\u001b[39m_check_is_compatible_loss(params[\u001b[38;5;124m'\u001b[39m\u001b[38;5;124mloss_function\u001b[39m\u001b[38;5;124m'\u001b[39m])\n\u001b[0;32m-> 5100\u001b[0m \u001b[38;5;28mself\u001b[39m\u001b[38;5;241m.\u001b[39m_fit(X, y, cat_features, text_features, embedding_features, \u001b[38;5;28;01mNone\u001b[39;00m, sample_weight, \u001b[38;5;28;01mNone\u001b[39;00m, \u001b[38;5;28;01mNone\u001b[39;00m, \u001b[38;5;28;01mNone\u001b[39;00m, \u001b[38;5;28;01mNone\u001b[39;00m, baseline, use_best_model,\n\u001b[1;32m   5101\u001b[0m           eval_set, verbose, logging_level, plot, plot_file, column_description, verbose_eval, metric_period,\n\u001b[1;32m   5102\u001b[0m           silent, early_stopping_rounds, save_snapshot, snapshot_file, snapshot_interval, init_model, callbacks, log_cout, log_cerr)\n\u001b[1;32m   5103\u001b[0m \u001b[38;5;28;01mreturn\u001b[39;00m \u001b[38;5;28mself\u001b[39m\n",
      "File \u001b[0;32m~/anaconda3/envs/jy/lib/python3.11/site-packages/catboost/core.py:2319\u001b[0m, in \u001b[0;36mCatBoost._fit\u001b[0;34m(self, X, y, cat_features, text_features, embedding_features, pairs, sample_weight, group_id, group_weight, subgroup_id, pairs_weight, baseline, use_best_model, eval_set, verbose, logging_level, plot, plot_file, column_description, verbose_eval, metric_period, silent, early_stopping_rounds, save_snapshot, snapshot_file, snapshot_interval, init_model, callbacks, log_cout, log_cerr)\u001b[0m\n\u001b[1;32m   2315\u001b[0m allow_clear_pool \u001b[38;5;241m=\u001b[39m train_params[\u001b[38;5;124m\"\u001b[39m\u001b[38;5;124mallow_clear_pool\u001b[39m\u001b[38;5;124m\"\u001b[39m]\n\u001b[1;32m   2317\u001b[0m \u001b[38;5;28;01mwith\u001b[39;00m log_fixup(log_cout, log_cerr), \\\n\u001b[1;32m   2318\u001b[0m     plot_wrapper(plot, plot_file, \u001b[38;5;124m'\u001b[39m\u001b[38;5;124mTraining plots\u001b[39m\u001b[38;5;124m'\u001b[39m, [_get_train_dir(\u001b[38;5;28mself\u001b[39m\u001b[38;5;241m.\u001b[39mget_params())]):\n\u001b[0;32m-> 2319\u001b[0m     \u001b[38;5;28mself\u001b[39m\u001b[38;5;241m.\u001b[39m_train(\n\u001b[1;32m   2320\u001b[0m         train_pool,\n\u001b[1;32m   2321\u001b[0m         train_params[\u001b[38;5;124m\"\u001b[39m\u001b[38;5;124meval_sets\u001b[39m\u001b[38;5;124m\"\u001b[39m],\n\u001b[1;32m   2322\u001b[0m         params,\n\u001b[1;32m   2323\u001b[0m         allow_clear_pool,\n\u001b[1;32m   2324\u001b[0m         train_params[\u001b[38;5;124m\"\u001b[39m\u001b[38;5;124minit_model\u001b[39m\u001b[38;5;124m\"\u001b[39m]\n\u001b[1;32m   2325\u001b[0m     )\n\u001b[1;32m   2327\u001b[0m \u001b[38;5;66;03m# Have property feature_importance possibly set\u001b[39;00m\n\u001b[1;32m   2328\u001b[0m loss \u001b[38;5;241m=\u001b[39m \u001b[38;5;28mself\u001b[39m\u001b[38;5;241m.\u001b[39m_object\u001b[38;5;241m.\u001b[39m_get_loss_function_name()\n",
      "File \u001b[0;32m~/anaconda3/envs/jy/lib/python3.11/site-packages/catboost/core.py:1723\u001b[0m, in \u001b[0;36m_CatBoostBase._train\u001b[0;34m(self, train_pool, test_pool, params, allow_clear_pool, init_model)\u001b[0m\n\u001b[1;32m   1722\u001b[0m \u001b[38;5;28;01mdef\u001b[39;00m \u001b[38;5;21m_train\u001b[39m(\u001b[38;5;28mself\u001b[39m, train_pool, test_pool, params, allow_clear_pool, init_model):\n\u001b[0;32m-> 1723\u001b[0m     \u001b[38;5;28mself\u001b[39m\u001b[38;5;241m.\u001b[39m_object\u001b[38;5;241m.\u001b[39m_train(train_pool, test_pool, params, allow_clear_pool, init_model\u001b[38;5;241m.\u001b[39m_object \u001b[38;5;28;01mif\u001b[39;00m init_model \u001b[38;5;28;01melse\u001b[39;00m \u001b[38;5;28;01mNone\u001b[39;00m)\n\u001b[1;32m   1724\u001b[0m     \u001b[38;5;28mself\u001b[39m\u001b[38;5;241m.\u001b[39m_set_trained_model_attributes()\n",
      "File \u001b[0;32m_catboost.pyx:4645\u001b[0m, in \u001b[0;36m_catboost._CatBoost._train\u001b[0;34m()\u001b[0m\n",
      "File \u001b[0;32m_catboost.pyx:4694\u001b[0m, in \u001b[0;36m_catboost._CatBoost._train\u001b[0;34m()\u001b[0m\n",
      "\u001b[0;31mKeyboardInterrupt\u001b[0m: "
     ]
    }
   ],
   "source": [
    "def objective(trial):\n",
    "    params = {\n",
    "        'iterations':trial.suggest_int(\"iterations\", 1000, 30000),\n",
    "        'learning_rate' : trial.suggest_uniform('learning_rate',0.001, 1),\n",
    "        'reg_lambda': trial.suggest_uniform('reg_lambda',1e-8,100),\n",
    "        'random_strength': trial.suggest_uniform('random_strength',0,100),\n",
    "        'min_data_in_leaf': trial.suggest_int('min_data_in_leaf',1,100),\n",
    "        'leaf_estimation_iterations': trial.suggest_int('leaf_estimation_iterations',1,15),\n",
    "        'bagging_temperature' :trial.suggest_loguniform('bagging_temperature', 0.01, 100.00),\n",
    "        'verbose':False,\n",
    "        'random_state':seed,\n",
    "    }\n",
    "    \n",
    "    score = []\n",
    "    tmp_score = []\n",
    "    for train_pool, val_pool, y_true in zip(all_train_pool, all_val_pool, all_y_val):\n",
    "        clf = CatBoostClassifier(**params,\n",
    "                                 scale_pos_weight=rate, \n",
    "                                 loss_function='Logloss',\n",
    "                                 eval_metric='F1',\n",
    "                                 task_type=\"GPU\",\n",
    "                                 devices='0',\n",
    "                                early_stopping_rounds=50, \n",
    "                                )\n",
    "        clf.fit(train_pool, eval_set=val_pool)\n",
    "        \n",
    "        y_pred = clf.predict(val_pool)\n",
    "        y_pred = [False if i=='False' else True for i in y_pred]\n",
    "        tmp_score.append(f1_score(y_true,y_pred,labels=[True, False]))\n",
    "        score.append((f1_score(y_true,y_pred,labels=[True, False])+recall_score(y_true,y_pred))/2)\n",
    "    score = np.mean(score)\n",
    "    print(np.mean(tmp_score))\n",
    "    return score\n",
    "\n",
    "# Hyperparameter Tuning\n",
    "study = optuna.create_study(direction='maximize', sampler=TPESampler(seed=seed), pruner=SuccessiveHalvingPruner())\n",
    "study.optimize(objective, n_trials=None)"
   ]
  },
  {
   "cell_type": "code",
   "execution_count": 231,
   "id": "8ca926c9",
   "metadata": {},
   "outputs": [
    {
     "data": {
      "text/plain": [
       "{'iterations': 8933,\n",
       " 'learning_rate': 0.5207562310317664,\n",
       " 'reg_lambda': 77.17197611166551,\n",
       " 'random_strength': 7.128389381914204,\n",
       " 'min_data_in_leaf': 72,\n",
       " 'leaf_estimation_iterations': 6,\n",
       " 'bagging_temperature': 0.04126205926026962}"
      ]
     },
     "execution_count": 231,
     "metadata": {},
     "output_type": "execute_result"
    }
   ],
   "source": [
    "best_param = study.best_params\n",
    "best_param"
   ]
  },
  {
   "cell_type": "code",
   "execution_count": 232,
   "id": "1f6bea60",
   "metadata": {
    "scrolled": true
   },
   "outputs": [],
   "source": [
    "best_models = []\n",
    "for train_pool, val_pool in zip(all_train_pool, all_val_pool):\n",
    "    best_model = CatBoostClassifier(**best_param,\n",
    "                                 random_state=seed,\n",
    "                                 scale_pos_weight=rate, \n",
    "                                 loss_function='Logloss',\n",
    "                                 eval_metric='F1',\n",
    "                                 task_type=\"GPU\",\n",
    "                                 devices='0',\n",
    "                                early_stopping_rounds=50, \n",
    "                                verbose=False)\n",
    "    \n",
    "    best_model.fit(train_pool, eval_set=val_pool)\n",
    "    best_models.append(best_model)"
   ]
  },
  {
   "cell_type": "code",
   "execution_count": 233,
   "id": "c8871444",
   "metadata": {},
   "outputs": [],
   "source": [
    "def get_clf_eval(y_test, y_pred=None):\n",
    "    confusion = confusion_matrix(y_test, y_pred, labels=[True, False])\n",
    "    accuracy = accuracy_score(y_test, y_pred)\n",
    "    precision = precision_score(y_test, y_pred, labels=[True, False])\n",
    "    recall = recall_score(y_test, y_pred)\n",
    "    F1 = f1_score(y_test, y_pred, labels=[True, False])\n",
    "\n",
    "    print(\"오차행렬:\\n\", confusion)\n",
    "    print(\"\\n정확도: {:.4f}\".format(accuracy))\n",
    "    print(\"정밀도: {:.4f}\".format(precision))\n",
    "    print(\"재현율: {:.4f}\".format(recall))\n",
    "    print(\"F1: {:.4f}\".format(F1))"
   ]
  },
  {
   "cell_type": "code",
   "execution_count": 234,
   "id": "d0f654a3",
   "metadata": {},
   "outputs": [
    {
     "name": "stdout",
     "output_type": "stream",
     "text": [
      "오차행렬:\n",
      " [[ 4602    18]\n",
      " [  783 50377]]\n",
      "\n",
      "정확도: 0.9856\n",
      "정밀도: 0.8546\n",
      "재현율: 0.9961\n",
      "F1: 0.9199\n"
     ]
    }
   ],
   "source": [
    "train_pred = np.mean([best_model.predict_proba(df_train.drop(\"is_converted\",axis=1)) for best_model in best_models], axis=0)\n",
    "y = list(df_train['is_converted'])\n",
    "threshold = min([num[1] if y[i] else 1 for i, num in enumerate(train_pred)])\n",
    "train_y_pred = [True if i[1]>=0.5 else False for i in train_pred]\n",
    "get_clf_eval(y, train_y_pred)"
   ]
  },
  {
   "cell_type": "code",
   "execution_count": 236,
   "id": "43daa73c",
   "metadata": {},
   "outputs": [],
   "source": [
    "categorical_features = label_columns = [\n",
    "                                            \"customer_country\",\n",
    "                                            \"business_subarea\",\n",
    "                                            \"business_area\",\n",
    "                                            \"business_unit\",\n",
    "                                            \"customer_type\",\n",
    "                                            \"enterprise\",\n",
    "                                            \"customer_job\",\n",
    "                                            \"inquiry_type\",\n",
    "                                            \"product_category\",\n",
    "                                            \"product_subcategory\",\n",
    "                                            \"product_modelname\",\n",
    "                                            \"customer_position\",\n",
    "                                            \"response_corporate\",\n",
    "                                            \"expected_timeline\",\n",
    "                                            'customer_idx',\n",
    "                                            'lead_owner',\n",
    "                                            'lead_owner',\n",
    "                                            'id_strategic_ver',\n",
    "                                            'it_strategic_ver',\n",
    "                                            'idit_strategic_ver',\n",
    "                                            'ver_cus',\n",
    "                                            'ver_pro',\n",
    "                                        ]\n",
    "\n",
    "# 예측에 필요한 데이터 분리\n",
    "x_test = df_test.drop([\"is_converted\", \"id\"], axis=1)\n",
    "test_pool = Pool(data=x_test, cat_features=categorical_features)\n"
   ]
  },
  {
   "cell_type": "code",
   "execution_count": 237,
   "id": "d13f7a6e",
   "metadata": {},
   "outputs": [
    {
     "data": {
      "text/plain": [
       "1952"
      ]
     },
     "execution_count": 237,
     "metadata": {},
     "output_type": "execute_result"
    }
   ],
   "source": [
    "# 예측 수행 (soft voting)\n",
    "a_pred = [best_model.predict_proba(test_pool) for best_model in best_models]\n",
    "pred = np.mean(a_pred, axis=0)\n",
    "pred = np.argmax(pred, axis=1)\n",
    "sum(pred)"
   ]
  },
  {
   "cell_type": "code",
   "execution_count": 238,
   "id": "3128a458",
   "metadata": {},
   "outputs": [],
   "source": [
    "# 제출 데이터 읽어오기 (df_test는 전처리된 데이터가 저장됨)\n",
    "df_sub = pd.read_csv(\"submission.csv\")\n",
    "df_sub[\"is_converted\"] = pred\n",
    "\n",
    "# 제출 파일 저장\n",
    "df_sub.to_csv(\"submission.csv\", index=False)"
   ]
  },
  {
   "cell_type": "code",
   "execution_count": 239,
   "id": "3f918394",
   "metadata": {},
   "outputs": [
    {
     "name": "stdout",
     "output_type": "stream",
     "text": [
      "오차행렬:\n",
      " [[1710  444]\n",
      " [ 242 2875]]\n",
      "\n",
      "정확도: 0.8699\n",
      "정밀도: 0.8760\n",
      "재현율: 0.7939\n",
      "F1: 0.8329\n"
     ]
    }
   ],
   "source": [
    "real = pd.read_csv('73per.csv')\n",
    "get_clf_eval(real['is_converted'], pred)"
   ]
  },
  {
   "cell_type": "code",
   "execution_count": 240,
   "id": "7f48d32d",
   "metadata": {},
   "outputs": [
    {
     "data": {
      "text/plain": [
       "2396"
      ]
     },
     "execution_count": 240,
     "metadata": {},
     "output_type": "execute_result"
    }
   ],
   "source": [
    "custom_pred = [True if (real['is_converted'][i] or pred[i]) else False for i in range(len(real))]   \n",
    "sum(custom_pred)"
   ]
  },
  {
   "cell_type": "code",
   "execution_count": 241,
   "id": "ef34dcdc",
   "metadata": {},
   "outputs": [
    {
     "data": {
      "text/plain": [
       "Index(['bant_submit', 'customer_country', 'business_unit',\n",
       "       'com_reg_ver_win_rate', 'customer_idx', 'customer_type', 'enterprise',\n",
       "       'historical_existing_cnt', 'id_strategic_ver', 'it_strategic_ver',\n",
       "       'idit_strategic_ver', 'customer_job', 'lead_desc_length',\n",
       "       'inquiry_type', 'product_category', 'product_subcategory',\n",
       "       'product_modelname', 'customer_position', 'response_corporate',\n",
       "       'expected_timeline', 'ver_cus', 'ver_pro', 'ver_win_rate_x',\n",
       "       'ver_win_ratio_per_bu', 'business_area', 'business_subarea',\n",
       "       'lead_owner', 'is_converted', 'id'],\n",
       "      dtype='object')"
      ]
     },
     "execution_count": 241,
     "metadata": {},
     "output_type": "execute_result"
    }
   ],
   "source": [
    "df_test.columns"
   ]
  },
  {
   "cell_type": "code",
   "execution_count": 164,
   "id": "004ceb71",
   "metadata": {},
   "outputs": [
    {
     "data": {
      "image/png": "[encoded data removed]",
      "text/plain": [
       "<Figure size 1000x800 with 1 Axes>"
      ]
     },
     "metadata": {},
     "output_type": "display_data"
    }
   ],
   "source": [
    "import matplotlib.pyplot as plt\n",
    "import seaborn as sns\n",
    "\n",
    "def plot_feature_importance(importance,names,model_type):\n",
    "    \n",
    "    feature_importance = np.array(importance)\n",
    "    feature_names = np.array(names)\n",
    "    data={'feature_names':feature_names,'feature_importance':feature_importance}\n",
    "    fi_df = pd.DataFrame(data)\n",
    "    \n",
    "    fi_df.sort_values(by=['feature_importance'], ascending=False,inplace=True)\n",
    "\n",
    "    plt.figure(figsize=(10,8))\n",
    "\n",
    "    sns.barplot(x=fi_df['feature_importance'], y=fi_df['feature_names'])\n",
    "\n",
    "    plt.title(model_type + ' Feature Importance')\n",
    "    plt.xlabel('Feature Importance')\n",
    "    plt.ylabel('Feature Names')\n",
    "\n",
    "plot_feature_importance(best_models[0].get_feature_importance(),df_test.drop(['is_converted','id'],axis=1).columns,'CATBOOST')"
   ]
  },
  {
   "cell_type": "code",
   "execution_count": null,
   "id": "1c1a31c1",
   "metadata": {},
   "outputs": [],
   "source": []
  }
 ],
 "metadata": {
  "kernelspec": {
   "display_name": "Python 3 (ipykernel)",
   "language": "python",
   "name": "python3"
  },
  "language_info": {
   "codemirror_mode": {
    "name": "ipython",
    "version": 3
   },
   "file_extension": ".py",
   "mimetype": "text/x-python",
   "name": "python",
   "nbconvert_exporter": "python",
   "pygments_lexer": "ipython3",
   "version": "3.11.5"
  }
 },
 "nbformat": 4,
 "nbformat_minor": 5
}
